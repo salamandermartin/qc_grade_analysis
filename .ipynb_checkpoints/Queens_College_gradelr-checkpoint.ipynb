{
 "cells": [
  {
   "cell_type": "code",
   "execution_count": 1001,
   "id": "3558d0d7",
   "metadata": {},
   "outputs": [],
   "source": [
    "import pandas as pd\n",
    "import numpy as np\n",
    "\n",
    "import seaborn as sns\n",
    "sns.set()\n",
    "import matplotlib.pyplot as plt\n",
    "%matplotlib inline\n",
    "\n",
    "from sklearn.model_selection import train_test_split\n",
    "from sklearn.linear_model import LinearRegression\n",
    "\n",
    "from sklearn import metrics"
   ]
  },
  {
   "cell_type": "code",
   "execution_count": 1002,
   "id": "0278f39a",
   "metadata": {},
   "outputs": [],
   "source": [
    "df = pd.read_csv('data/grades.csv')\n",
    "df = df.drop(labels = 0, axis = 0) "
   ]
  },
  {
   "cell_type": "code",
   "execution_count": 1003,
   "id": "922e475a",
   "metadata": {},
   "outputs": [
    {
     "name": "stdout",
     "output_type": "stream",
     "text": [
      "(2668, 26)\n"
     ]
    }
   ],
   "source": [
    "df.columns = df.columns.str.replace(' ', '_').str.lower()\n",
    "#print(df.dtypes)\n",
    "possible_grades = ['total_enrolled', 'a+', 'a', 'a-', 'b+', 'b', 'b-', 'c+', 'c', 'p', 'c-', 'd', 'f', 'withdrawal', 'inc/no_grade' ]\n",
    "\n",
    "for i in possible_grades: #converting values from object to integer \n",
    "    df[i] = df[i].astype(int)\n",
    "    \n",
    "df['class_name'] = df['subject'].astype(str) + df['course_number'].astype(str)\n",
    "\n",
    "def writing_intensive(class_num):\n",
    "    if class_num[-1] == 'W':\n",
    "        return True\n",
    "    return False\n",
    "\n",
    "def honors(class_num):\n",
    "    if class_num[-1] == 'H':\n",
    "        return True\n",
    "    return False\n",
    "\n",
    "def pure_number(class_num):\n",
    "    if class_num[-1] == 'W' or class_num[-1] == 'H':\n",
    "        class_num = class_num[:-1]\n",
    "    return class_num\n",
    "\n",
    "df['writing_intensive'] = df['course_number'].apply(writing_intensive)\n",
    "df['honors'] = df['course_number'].apply(honors)\n",
    "df['class_num'] = df['course_number'].apply(pure_number)\n",
    "\n",
    "\n",
    "print(df.shape)"
   ]
  },
  {
   "cell_type": "code",
   "execution_count": 1004,
   "id": "544ef35c",
   "metadata": {},
   "outputs": [],
   "source": [
    "def average_calc(df_in):\n",
    "    score_1 = (df_in['a'] + df_in['a+']) * 4\n",
    "    score_2 = (df_in['a-']) * 3.7\n",
    "    score_3 = df_in['b+'] * 3.3\n",
    "    score_4 = df_in['b'] * 3\n",
    "    score_5 = df_in['b-'] * 2.7\n",
    "    score_6 = df_in['c+'] * 2.3\n",
    "    score_7 = (df_in['c'] + df_in['p']) * 2\n",
    "    score_8 = df_in['c-'] * 1.7\n",
    "    score_9 = df_in['d'] * 1\n",
    "    score_10 = (df_in['f'] + df_in['withdrawal'] + df_in['inc/no_grade']) * 0\n",
    "\n",
    "    df_in['actual_average'] = (score_1 + score_2 + score_3 + score_4 + score_5 + score_6 + score_7 + score_8 + score_9 + score_10)/df_in['total_enrolled']\n",
    "    df_in['reasonably_passing'] = np.where(df_in['actual_average'] > 2.5, 1 , 0)\n",
    "\n",
    "#     save_as = 'data/improved_grades.csv'\n",
    "#     df.to_csv(save_as, index=False)\n",
    "\n",
    "#df.describe()\n",
    "average_calc(df)\n",
    "\n",
    "save_as = 'data/improved_grades.csv'\n",
    "df.to_csv(save_as, index=False)"
   ]
  },
  {
   "cell_type": "code",
   "execution_count": 1005,
   "id": "348edb20",
   "metadata": {},
   "outputs": [
    {
     "data": {
      "text/plain": [
       "Index(['term', 'subject', 'course_number', 'course_description',\n",
       "       'class_section', 'instructor', 'total_enrolled', 'a+', 'a', 'a-', 'b+',\n",
       "       'b', 'b-', 'c+', 'c', 'p', 'c-', 'd', 'f', 'withdrawal', 'inc/no_grade',\n",
       "       'average_gpa', 'class_name', 'writing_intensive', 'honors', 'class_num',\n",
       "       'actual_average', 'reasonably_passing'],\n",
       "      dtype='object')"
      ]
     },
     "execution_count": 1005,
     "metadata": {},
     "output_type": "execute_result"
    }
   ],
   "source": [
    "df.isnull().sum() \n",
    "df.duplicated().sum()\n",
    "#no duplicate or null values \n",
    "df.columns"
   ]
  },
  {
   "cell_type": "code",
   "execution_count": 1006,
   "id": "5cce24a1",
   "metadata": {},
   "outputs": [
    {
     "data": {
      "text/plain": [
       "1    0.703523\n",
       "0    0.296477\n",
       "Name: reasonably_passing, dtype: float64"
      ]
     },
     "execution_count": 1006,
     "metadata": {},
     "output_type": "execute_result"
    }
   ],
   "source": [
    "df.reasonably_passing.value_counts(normalize = True)"
   ]
  },
  {
   "cell_type": "code",
   "execution_count": 1007,
   "id": "52baca9e",
   "metadata": {},
   "outputs": [],
   "source": [
    "df = pd.get_dummies(df, columns = ['subject'], drop_first = True)"
   ]
  },
  {
   "cell_type": "code",
   "execution_count": 1008,
   "id": "6a5ede01",
   "metadata": {},
   "outputs": [],
   "source": [
    "selected_features = ['class_num', 'total_enrolled', 'writing_intensive', 'honors', \n",
    "       'subject_ANTH', 'subject_ARAB', 'subject_ARTH', 'subject_ARTS',\n",
    "       'subject_ASTR', 'subject_BALA', 'subject_BIOL', 'subject_BUS',\n",
    "       'subject_CERT', 'subject_CHEM', 'subject_CHIN',\n",
    "       'subject_CLAS', 'subject_CMAL', 'subject_CMLIT', 'subject_CO-OP',\n",
    "       'subject_CSCI', 'subject_DANCE', 'subject_DATA', 'subject_DRAM',\n",
    "       'subject_EAST', 'subject_ECON', 'subject_ECPCE', 'subject_ECPEL',\n",
    "       'subject_ECPSE', 'subject_ECPSP', 'subject_EECE', 'subject_ENGL',\n",
    "       'subject_ENSCI', 'subject_EURO', 'subject_FNES', 'subject_FREN',\n",
    "       'subject_GEOL', 'subject_GERM',  'subject_GRKMD',\n",
    "       'subject_HEBRW', 'subject_HIST', 'subject_HNRS', 'subject_HTH',\n",
    "       'subject_ITAL', 'subject_JAZZ', 'subject_JPNS',\n",
    "       'subject_KOR', 'subject_LABST', 'subject_LBSCI',\n",
    "       'subject_LCD', 'subject_LIBR', 'subject_MAM', 'subject_MATH',\n",
    "       'subject_MEDST', 'subject_MES', 'subject_MUSIC', 'subject_PERM',\n",
    "       'subject_PHIL', 'subject_PHOTO', 'subject_PHYS', 'subject_PORT',\n",
    "       'subject_PSCI', 'subject_PSYCH', 'subject_QNS', 'subject_RM',\n",
    "       'subject_RUSS', 'subject_SEEK', 'subject_SEYS', 'subject_SEYSL',\n",
    "       'subject_SOC', 'subject_SPAN', 'subject_STPER', 'subject_URBST',\n",
    "       'subject_WGS']\n",
    "\n",
    "#'subject_AFST', 'subject_CESL', 'subject_JEWST', 'subject_LATIN', 'subject_GREEK',"
   ]
  },
  {
   "cell_type": "code",
   "execution_count": 1009,
   "id": "feb97684",
   "metadata": {},
   "outputs": [],
   "source": [
    "X = df[selected_features]\n",
    "y = df['actual_average']"
   ]
  },
  {
   "cell_type": "code",
   "execution_count": 1010,
   "id": "c53d78ff",
   "metadata": {},
   "outputs": [],
   "source": [
    "X_train, X_test, y_train, y_test = train_test_split(X, y, test_size=0.2, random_state=45)"
   ]
  },
  {
   "cell_type": "code",
   "execution_count": 1011,
   "id": "c22d94cb",
   "metadata": {},
   "outputs": [
    {
     "name": "stdout",
     "output_type": "stream",
     "text": [
      "Length of our Training data: 2134 \n",
      "Length of our Testing data: 534\n"
     ]
    }
   ],
   "source": [
    "print('Length of our Training data:', X_train.shape[0], '\\nLength of our Testing data:', X_test.shape[0])"
   ]
  },
  {
   "cell_type": "code",
   "execution_count": 1012,
   "id": "17ace9d8",
   "metadata": {},
   "outputs": [],
   "source": [
    "model = LinearRegression()"
   ]
  },
  {
   "cell_type": "code",
   "execution_count": 1013,
   "id": "05049bc3",
   "metadata": {},
   "outputs": [
    {
     "data": {
      "text/plain": [
       "LinearRegression()"
      ]
     },
     "execution_count": 1013,
     "metadata": {},
     "output_type": "execute_result"
    }
   ],
   "source": [
    "model.fit(X_train, y_train)"
   ]
  },
  {
   "cell_type": "code",
   "execution_count": 1014,
   "id": "96ff2606",
   "metadata": {},
   "outputs": [
    {
     "data": {
      "text/plain": [
       "array([ 2.98172512,  0.91972032,  2.7021992 ,  3.307342  ,  2.8936277 ,\n",
       "        2.97257961,  3.52250406,  2.94453386,  2.74656676,  2.89403439,\n",
       "        2.40355661,  1.52368937,  2.78786056,  1.52156341,  3.34801719,\n",
       "        3.10044443,  3.01851882,  2.32028723,  3.08955781,  2.9743889 ,\n",
       "        1.88373657,  2.70345571,  1.87958889,  3.405614  ,  3.40003526,\n",
       "        2.89374137,  3.66350747,  3.19402092,  2.40273843,  3.00823886,\n",
       "        2.99178659,  3.08624821,  3.43553852,  3.34160325,  2.94695179,\n",
       "        2.89053918,  3.39764721,  3.80710814,  1.50871062,  3.13826604,\n",
       "        2.40256154,  2.40459155,  3.40301493,  3.18855031,  1.50993737,\n",
       "        3.52547153,  2.94859018,  2.40323616,  1.52123692,  2.40275822,\n",
       "        2.9489442 ,  1.5233061 ,  3.01372758,  3.01265614,  2.70071114,\n",
       "        2.8347997 ,  1.42745006,  2.97228479,  2.98227053,  3.19649632,\n",
       "        2.97246089,  2.73294921,  2.94765975,  2.94503357,  1.88003617,\n",
       "        2.70096092,  3.54767032,  2.40263524,  2.40478941,  3.00551299,\n",
       "        2.71271229,  2.97230457,  3.0845332 ,  3.80426856,  3.30866444,\n",
       "        3.44545924,  3.298707  ,  2.70068671,  2.73460763,  3.33875783,\n",
       "        2.42070693,  2.63419195,  2.95089546,  2.57398258,  2.74586919,\n",
       "        3.08646428,  3.08662644,  2.70074567,  2.70061726,  1.88099434,\n",
       "        1.71365249,  2.74846608,  2.47157598,  1.51777505,  3.44252156,\n",
       "        1.52130211,  3.34814442,  2.94868509,  2.94489002,  3.1006326 ,\n",
       "        1.88102887,  3.522686  ,  2.59419703,  3.30872301,  1.5102411 ,\n",
       "        1.88465635,  2.94688304,  3.51142491,  3.34192448,  3.00551299,\n",
       "        2.97228479,  1.52264741,  2.94853413,  3.29840635,  2.40293204,\n",
       "        2.59383662,  2.94811484,  1.50991759,  2.98034915,  1.87960868,\n",
       "        2.40408105,  3.01966981,  2.57400237,  1.51872124,  3.34009382,\n",
       "        3.52260299,  1.5196895 ,  3.44166193,  2.972265  ,  2.59269424,\n",
       "        2.70074102,  3.80351133,  3.30965635,  2.89044568,  2.94860783,\n",
       "        2.59380596,  3.20009819,  2.8904717 ,  2.74641856,  2.73296396,\n",
       "        3.80094599,  2.40263524,  2.73296396,  2.97228479,  3.37555873,\n",
       "        2.31336641,  3.40256607,  1.88373657,  2.69511967,  2.98032937,\n",
       "        2.40263524,  1.52297211,  3.49505099,  2.98123419,  2.88465067,\n",
       "        3.33877761,  3.8099872 ,  1.5237053 ,  2.79925749,  3.01900646,\n",
       "        2.41236244,  2.42244479,  2.70265851,  2.70339635,  3.77128466,\n",
       "        1.52362615,  3.81000699,  3.85477589,  2.68435465,  3.80426856,\n",
       "        2.31337146,  2.61475735,  2.97224521,  2.97513367,  3.29866743,\n",
       "        2.93002646,  2.89023931,  3.33845757,  3.18864924,  3.19985649,\n",
       "        3.30824625,  3.34177509,  2.97230457,  3.39986925,  2.98917119,\n",
       "        2.73294921,  3.45444666,  2.97931728,  2.42218608,  3.40260564,\n",
       "        3.310097  ,  2.97228479,  2.40340336,  3.20447628,  3.01378734,\n",
       "        2.86410999,  2.89051939,  3.30886538,  3.40611985,  2.93002646,\n",
       "        2.70359422,  2.40442435,  3.40600153,  2.40457176,  1.88373657,\n",
       "        3.01970394,  1.50993737,  3.44263524,  2.78786056,  2.94695179,\n",
       "        2.90836633,  2.78436668,  3.01112346,  2.972265  ,  3.36526769,\n",
       "        3.52547153,  1.8841978 ,  3.44291067,  2.70071619,  2.97417125,\n",
       "        2.94790649,  2.98034915,  2.98896828,  2.98450811,  1.52123692,\n",
       "        2.40338357,  3.10061281,  2.78786056,  1.52297211,  3.51050285,\n",
       "        3.4002537 ,  3.19867151,  3.44545924,  2.98034915,  3.49355205,\n",
       "        2.59106363,  2.40263524,  2.972265  ,  1.51966971,  2.73668305,\n",
       "        2.94444967,  1.52352722,  2.70952594,  3.01341258,  3.52092399,\n",
       "        1.88005091,  2.94453386,  3.3995488 ,  3.30022068,  2.73298374,\n",
       "        3.1191648 ,  2.59404962,  2.70060756,  3.11703053,  2.972265  ,\n",
       "        2.74523138, -0.02306638,  3.99994803,  2.89345791,  3.3085756 ,\n",
       "        1.8820202 ,  3.80728039,  2.62293562,  2.69909133,  2.94846437,\n",
       "        3.30774041,  1.87993684,  1.52155152,  1.87807227,  3.23107243,\n",
       "        3.50785373,  4.16121372,  2.89057875,  3.40600736,  2.98481302,\n",
       "        1.88240948,  1.51732304,  1.88027321,  3.80859224,  2.40444414,\n",
       "        3.40620948,  1.87960868,  2.97252025,  3.18838815,  2.73573725,\n",
       "        2.42058821,  3.80079353,  1.51966971,  3.20425784,  2.59399492,\n",
       "        2.59412877,  3.30825595,  2.73749846,  3.80823846,  1.88244905,\n",
       "        3.39970709,  2.42261625,  2.81377597,  2.42058821,  2.40263524,\n",
       "        2.94448924,  2.89122775,  2.91109887,  2.98204981,  3.32556267,\n",
       "        2.89361296,  2.68417775,  2.40442435,  2.94618604,  3.08954811,\n",
       "        3.01364962,  3.19698199,  1.7146902 ,  2.97418094,  2.89053918,\n",
       "        2.94732773,  3.71770648,  3.37553894,  3.52537725,  2.91401252,\n",
       "        2.975214  ,  3.34170218,  2.97246089,  2.4028711 ,  2.89025405,\n",
       "        2.62130942,  3.08564957,  2.972265  ,  2.98308673,  2.94463279,\n",
       "        1.42746985,  2.73296396,  2.74364846,  2.58165923,  3.34807536,\n",
       "        3.33996115,  2.98034915,  2.61449122,  2.9467548 ,  1.51797283,\n",
       "        2.68413353,  0.91754886,  1.88005091,  2.69887817,  3.08637584,\n",
       "        2.99125126,  3.10036528,  2.9477482 ,  3.08720442,  2.97254003,\n",
       "        2.89124754,  3.19694241,  2.972265  ,  2.40263524,  2.98241347,\n",
       "        2.89174431,  2.7027462 ,  3.76608571,  2.59129019,  3.10018721,\n",
       "        1.9680478 ,  3.30772527,  2.42058198,  2.94464753,  2.97236393,\n",
       "        2.732969  ,  3.01004113,  2.4033351 ,  2.98786766,  2.73296396,\n",
       "        2.40301851,  1.52370916,  2.70047951,  2.70227953,  3.19922846,\n",
       "        2.89555027,  2.40273843,  2.40316671,  2.88919186,  3.4413962 ,\n",
       "        2.70367142,  2.90830698,  1.51175983,  3.00823847,  1.85013484,\n",
       "        3.18957163,  1.52264741,  2.94836149,  3.18838815,  2.73346287,\n",
       "        2.42319391,  2.40273843,  3.30710615,  1.52300584,  2.40417494,\n",
       "        3.01176584,  2.31334663,  3.31033404,  3.32696347,  2.42058821,\n",
       "        2.7009807 ,  1.7133363 ,  2.41061332,  2.73486832,  3.71770648,\n",
       "        2.972265  ,  2.89403439,  3.80125169,  2.40440457,  2.59383662,\n",
       "        2.68514176,  2.97282765,  3.77147748,  2.98237837,  3.44151413,\n",
       "        2.74495437,  3.00845612,  2.42235328,  3.79904944,  2.86692049,\n",
       "        2.68420724,  1.52115856,  3.19602728,  2.39759435,  2.42066736,\n",
       "        1.71609266,  2.97232436,  3.0095803 ,  1.88102887,  3.40000775,\n",
       "        2.59219067,  2.73383061,  3.3419326 ,  2.9903385 ,  3.44135198,\n",
       "        2.9039694 ,  3.00551299,  2.7436632 ,  2.972265  ,  2.89566899,\n",
       "        1.52352722,  2.91528183,  3.08862389,  3.54761096,  2.989368  ,\n",
       "        3.80619341,  3.19817018,  3.37243106,  2.97242329,  3.33800287,\n",
       "        3.34750046,  1.88005091,  2.63245636,  3.19693232,  2.73438305,\n",
       "        3.76899435,  3.10067217,  3.00827804,  3.34302501,  2.73460763,\n",
       "        3.40301839,  2.73598824,  3.39960491,  2.93292156,  2.74249993,\n",
       "        2.70959421,  3.51142491,  3.01146755,  2.63191243,  2.89362265,\n",
       "        1.88102887,  2.70959421,  2.78786056,  3.44135198,  2.4028711 ,\n",
       "        2.70073093,  2.59202347,  2.98034915,  2.89382517,  1.52124275,\n",
       "        3.80067986,  3.204697  ,  1.51966971,  1.51022132,  3.30885064,\n",
       "        1.88025343,  3.80126643,  2.68417775,  2.73334494,  1.52265206,\n",
       "        3.5253536 ,  3.44183843,  1.88003617,  1.52124275,  2.972265  ,\n",
       "        2.69549403,  3.08952833,  2.94413515,  3.13828582,  2.972265  ,\n",
       "        3.33855689,  2.6061551 ,  3.00824856,  2.97281388,  3.30692421,\n",
       "        2.40457176,  2.73647044,  2.41400453,  2.31368804,  2.42044971,\n",
       "        2.61210171,  2.74904217,  2.40444028,  2.56006539,  2.972265  ,\n",
       "        3.0103317 ,  2.4029363 ,  2.81373639,  1.88099434,  3.19052293,\n",
       "        1.42746985,  1.52277503,  3.44151413,  2.73484507,  1.8847355 ,\n",
       "        1.52264741,  2.70244594,  2.59435998,  2.59243701,  2.42048928,\n",
       "        3.50785373,  3.33837377,  3.08965595,  3.51048771])"
      ]
     },
     "execution_count": 1014,
     "metadata": {},
     "output_type": "execute_result"
    }
   ],
   "source": [
    "y_pred = model.predict(X_test)\n",
    "y_pred"
   ]
  },
  {
   "cell_type": "code",
   "execution_count": 1015,
   "id": "44880bdb",
   "metadata": {},
   "outputs": [
    {
     "data": {
      "text/plain": [
       "0.3843454526551413"
      ]
     },
     "execution_count": 1015,
     "metadata": {},
     "output_type": "execute_result"
    }
   ],
   "source": [
    "r_squared = metrics.r2_score(y_test, y_pred)\n",
    "r_squared"
   ]
  },
  {
   "cell_type": "code",
   "execution_count": 1016,
   "id": "5a575112",
   "metadata": {},
   "outputs": [
    {
     "data": {
      "text/plain": [
       "0.5594932840838895"
      ]
     },
     "execution_count": 1016,
     "metadata": {},
     "output_type": "execute_result"
    }
   ],
   "source": [
    "mae = metrics.mean_absolute_error(y_test, y_pred)\n",
    "mae"
   ]
  },
  {
   "cell_type": "markdown",
   "id": "59a81ace",
   "metadata": {},
   "source": [
    "Notes:\n",
    "-On average, guesses were around ~0.56 grade points off, which is the range of an 'a-' to a 'b+"
   ]
  },
  {
   "cell_type": "markdown",
   "id": "5e5e4626",
   "metadata": {},
   "source": [
    "# Using the model to predict Spring 2021 Grades"
   ]
  },
  {
   "cell_type": "code",
   "execution_count": 1017,
   "id": "50cd6533",
   "metadata": {},
   "outputs": [],
   "source": [
    "new_df = pd.read_csv('data/grades_spring_2021.csv')"
   ]
  },
  {
   "cell_type": "code",
   "execution_count": 1018,
   "id": "363d338a",
   "metadata": {},
   "outputs": [
    {
     "name": "stdout",
     "output_type": "stream",
     "text": [
      "Index(['term', 'subject', 'course_number', 'course_name', 'section', 'prof',\n",
      "       'total_enrolled', 'a+', 'a', 'a-', 'b+', 'b', 'b-', 'c+', 'c', 'p',\n",
      "       'c-', 'd', 'nc', 'f', 'withdrawal', 'inc/no_grade', 'avg_gpa',\n",
      "       'unnamed:_23', 'unnamed:_24'],\n",
      "      dtype='object')\n"
     ]
    }
   ],
   "source": [
    "new_df.rename(columns = {'NBR': 'Course Number', 'W': 'Withdrawal', 'INC/NA': 'INC/NO GRADE', 'TOTAL': 'TOTAL ENROLLED'}, inplace =True)\n",
    "new_df.columns = new_df.columns.str.replace(' ', '_').str.lower()\n",
    "new_df['inc/no_grade'] = new_df['inc/no_grade'] + new_df['nc']\n",
    "\n",
    "print(new_df.columns)\n",
    "\n",
    "for i in possible_grades: #converting values from object to integer \n",
    "    new_df[i] = new_df[i].astype(int)\n",
    "\n",
    "average_calc(new_df)"
   ]
  },
  {
   "cell_type": "code",
   "execution_count": 1019,
   "id": "d6607fbb",
   "metadata": {},
   "outputs": [
    {
     "data": {
      "text/html": [
       "<div>\n",
       "<style scoped>\n",
       "    .dataframe tbody tr th:only-of-type {\n",
       "        vertical-align: middle;\n",
       "    }\n",
       "\n",
       "    .dataframe tbody tr th {\n",
       "        vertical-align: top;\n",
       "    }\n",
       "\n",
       "    .dataframe thead th {\n",
       "        text-align: right;\n",
       "    }\n",
       "</style>\n",
       "<table border=\"1\" class=\"dataframe\">\n",
       "  <thead>\n",
       "    <tr style=\"text-align: right;\">\n",
       "      <th></th>\n",
       "      <th>term</th>\n",
       "      <th>subject</th>\n",
       "      <th>course_number</th>\n",
       "      <th>course_name</th>\n",
       "      <th>section</th>\n",
       "      <th>prof</th>\n",
       "      <th>total_enrolled</th>\n",
       "      <th>a+</th>\n",
       "      <th>a</th>\n",
       "      <th>a-</th>\n",
       "      <th>...</th>\n",
       "      <th>withdrawal</th>\n",
       "      <th>inc/no_grade</th>\n",
       "      <th>avg_gpa</th>\n",
       "      <th>unnamed:_23</th>\n",
       "      <th>unnamed:_24</th>\n",
       "      <th>actual_average</th>\n",
       "      <th>reasonably_passing</th>\n",
       "      <th>writing_intensive</th>\n",
       "      <th>honors</th>\n",
       "      <th>class_num</th>\n",
       "    </tr>\n",
       "  </thead>\n",
       "  <tbody>\n",
       "    <tr>\n",
       "      <th>0</th>\n",
       "      <td>Spring 2021</td>\n",
       "      <td>ACCT</td>\n",
       "      <td>101</td>\n",
       "      <td>Intro Thry &amp; Prac of Acct I</td>\n",
       "      <td>10</td>\n",
       "      <td>SOLARSH, E</td>\n",
       "      <td>54</td>\n",
       "      <td>16</td>\n",
       "      <td>14</td>\n",
       "      <td>9</td>\n",
       "      <td>...</td>\n",
       "      <td>5</td>\n",
       "      <td>0</td>\n",
       "      <td>3.802174</td>\n",
       "      <td>NaN</td>\n",
       "      <td>NaN</td>\n",
       "      <td>3.238889</td>\n",
       "      <td>1</td>\n",
       "      <td>False</td>\n",
       "      <td>False</td>\n",
       "      <td>101</td>\n",
       "    </tr>\n",
       "    <tr>\n",
       "      <th>1</th>\n",
       "      <td>Spring 2021</td>\n",
       "      <td>ACCT</td>\n",
       "      <td>101</td>\n",
       "      <td>Intro Thry &amp; Prac of Acct I</td>\n",
       "      <td>4</td>\n",
       "      <td>FEISULLIN, A</td>\n",
       "      <td>52</td>\n",
       "      <td>12</td>\n",
       "      <td>17</td>\n",
       "      <td>6</td>\n",
       "      <td>...</td>\n",
       "      <td>3</td>\n",
       "      <td>3</td>\n",
       "      <td>3.704348</td>\n",
       "      <td>NaN</td>\n",
       "      <td>lol</td>\n",
       "      <td>3.276923</td>\n",
       "      <td>1</td>\n",
       "      <td>False</td>\n",
       "      <td>False</td>\n",
       "      <td>101</td>\n",
       "    </tr>\n",
       "    <tr>\n",
       "      <th>2</th>\n",
       "      <td>Spring 2021</td>\n",
       "      <td>ACCT</td>\n",
       "      <td>101</td>\n",
       "      <td>Intro Thry &amp; Prac of Acct I</td>\n",
       "      <td>8</td>\n",
       "      <td>SOLARSH, E</td>\n",
       "      <td>55</td>\n",
       "      <td>23</td>\n",
       "      <td>13</td>\n",
       "      <td>5</td>\n",
       "      <td>...</td>\n",
       "      <td>0</td>\n",
       "      <td>0</td>\n",
       "      <td>3.620755</td>\n",
       "      <td>NaN</td>\n",
       "      <td>NaN</td>\n",
       "      <td>3.489091</td>\n",
       "      <td>1</td>\n",
       "      <td>False</td>\n",
       "      <td>False</td>\n",
       "      <td>101</td>\n",
       "    </tr>\n",
       "    <tr>\n",
       "      <th>3</th>\n",
       "      <td>Spring 2021</td>\n",
       "      <td>ACCT</td>\n",
       "      <td>101</td>\n",
       "      <td>Intro Thry &amp; Prac of Acct I</td>\n",
       "      <td>11</td>\n",
       "      <td>CHAN, J</td>\n",
       "      <td>55</td>\n",
       "      <td>0</td>\n",
       "      <td>25</td>\n",
       "      <td>10</td>\n",
       "      <td>...</td>\n",
       "      <td>3</td>\n",
       "      <td>0</td>\n",
       "      <td>3.613725</td>\n",
       "      <td>NaN</td>\n",
       "      <td>NaN</td>\n",
       "      <td>3.350909</td>\n",
       "      <td>1</td>\n",
       "      <td>False</td>\n",
       "      <td>False</td>\n",
       "      <td>101</td>\n",
       "    </tr>\n",
       "    <tr>\n",
       "      <th>4</th>\n",
       "      <td>Spring 2021</td>\n",
       "      <td>ACCT</td>\n",
       "      <td>101</td>\n",
       "      <td>Intro Thry &amp; Prac of Acct I</td>\n",
       "      <td>5</td>\n",
       "      <td>FEISULLIN, A</td>\n",
       "      <td>35</td>\n",
       "      <td>11</td>\n",
       "      <td>3</td>\n",
       "      <td>0</td>\n",
       "      <td>...</td>\n",
       "      <td>4</td>\n",
       "      <td>2</td>\n",
       "      <td>3.477778</td>\n",
       "      <td>NaN</td>\n",
       "      <td>NaN</td>\n",
       "      <td>2.682857</td>\n",
       "      <td>1</td>\n",
       "      <td>False</td>\n",
       "      <td>False</td>\n",
       "      <td>101</td>\n",
       "    </tr>\n",
       "  </tbody>\n",
       "</table>\n",
       "<p>5 rows × 30 columns</p>\n",
       "</div>"
      ],
      "text/plain": [
       "          term subject course_number                  course_name section  \\\n",
       "0  Spring 2021    ACCT           101  Intro Thry & Prac of Acct I      10   \n",
       "1  Spring 2021    ACCT           101  Intro Thry & Prac of Acct I       4   \n",
       "2  Spring 2021    ACCT           101  Intro Thry & Prac of Acct I       8   \n",
       "3  Spring 2021    ACCT           101  Intro Thry & Prac of Acct I      11   \n",
       "4  Spring 2021    ACCT           101  Intro Thry & Prac of Acct I       5   \n",
       "\n",
       "           prof  total_enrolled  a+   a  a-  ...  withdrawal  inc/no_grade  \\\n",
       "0    SOLARSH, E              54  16  14   9  ...           5             0   \n",
       "1  FEISULLIN, A              52  12  17   6  ...           3             3   \n",
       "2    SOLARSH, E              55  23  13   5  ...           0             0   \n",
       "3       CHAN, J              55   0  25  10  ...           3             0   \n",
       "4  FEISULLIN, A              35  11   3   0  ...           4             2   \n",
       "\n",
       "    avg_gpa  unnamed:_23  unnamed:_24  actual_average  reasonably_passing  \\\n",
       "0  3.802174          NaN          NaN        3.238889                   1   \n",
       "1  3.704348          NaN          lol        3.276923                   1   \n",
       "2  3.620755          NaN          NaN        3.489091                   1   \n",
       "3  3.613725          NaN          NaN        3.350909                   1   \n",
       "4  3.477778          NaN          NaN        2.682857                   1   \n",
       "\n",
       "   writing_intensive  honors  class_num  \n",
       "0              False   False        101  \n",
       "1              False   False        101  \n",
       "2              False   False        101  \n",
       "3              False   False        101  \n",
       "4              False   False        101  \n",
       "\n",
       "[5 rows x 30 columns]"
      ]
     },
     "execution_count": 1019,
     "metadata": {},
     "output_type": "execute_result"
    }
   ],
   "source": [
    "new_df['writing_intensive'] = new_df['course_number'].apply(writing_intensive)\n",
    "new_df['honors'] = new_df['course_number'].apply(honors)\n",
    "new_df['class_num'] = new_df['course_number'].apply(pure_number)\n",
    "\n",
    "new_df.head()"
   ]
  },
  {
   "cell_type": "code",
   "execution_count": 1020,
   "id": "9f6cde4a",
   "metadata": {},
   "outputs": [
    {
     "data": {
      "text/html": [
       "<div>\n",
       "<style scoped>\n",
       "    .dataframe tbody tr th:only-of-type {\n",
       "        vertical-align: middle;\n",
       "    }\n",
       "\n",
       "    .dataframe tbody tr th {\n",
       "        vertical-align: top;\n",
       "    }\n",
       "\n",
       "    .dataframe thead th {\n",
       "        text-align: right;\n",
       "    }\n",
       "</style>\n",
       "<table border=\"1\" class=\"dataframe\">\n",
       "  <thead>\n",
       "    <tr style=\"text-align: right;\">\n",
       "      <th></th>\n",
       "      <th>actual_average</th>\n",
       "      <th>predictions</th>\n",
       "    </tr>\n",
       "  </thead>\n",
       "  <tbody>\n",
       "    <tr>\n",
       "      <th>0</th>\n",
       "      <td>3.238889</td>\n",
       "      <td>2.944395</td>\n",
       "    </tr>\n",
       "    <tr>\n",
       "      <th>1</th>\n",
       "      <td>3.276923</td>\n",
       "      <td>2.944435</td>\n",
       "    </tr>\n",
       "    <tr>\n",
       "      <th>2</th>\n",
       "      <td>3.489091</td>\n",
       "      <td>2.944376</td>\n",
       "    </tr>\n",
       "    <tr>\n",
       "      <th>3</th>\n",
       "      <td>3.350909</td>\n",
       "      <td>2.944376</td>\n",
       "    </tr>\n",
       "    <tr>\n",
       "      <th>4</th>\n",
       "      <td>2.682857</td>\n",
       "      <td>2.944771</td>\n",
       "    </tr>\n",
       "    <tr>\n",
       "      <th>...</th>\n",
       "      <td>...</td>\n",
       "      <td>...</td>\n",
       "    </tr>\n",
       "    <tr>\n",
       "      <th>2481</th>\n",
       "      <td>3.206250</td>\n",
       "      <td>2.342215</td>\n",
       "    </tr>\n",
       "    <tr>\n",
       "      <th>2482</th>\n",
       "      <td>3.371429</td>\n",
       "      <td>2.342146</td>\n",
       "    </tr>\n",
       "    <tr>\n",
       "      <th>2483</th>\n",
       "      <td>3.026923</td>\n",
       "      <td>2.905661</td>\n",
       "    </tr>\n",
       "    <tr>\n",
       "      <th>2484</th>\n",
       "      <td>3.270370</td>\n",
       "      <td>2.821592</td>\n",
       "    </tr>\n",
       "    <tr>\n",
       "      <th>2485</th>\n",
       "      <td>3.324000</td>\n",
       "      <td>2.823106</td>\n",
       "    </tr>\n",
       "  </tbody>\n",
       "</table>\n",
       "<p>2486 rows × 2 columns</p>\n",
       "</div>"
      ],
      "text/plain": [
       "      actual_average  predictions\n",
       "0           3.238889     2.944395\n",
       "1           3.276923     2.944435\n",
       "2           3.489091     2.944376\n",
       "3           3.350909     2.944376\n",
       "4           2.682857     2.944771\n",
       "...              ...          ...\n",
       "2481        3.206250     2.342215\n",
       "2482        3.371429     2.342146\n",
       "2483        3.026923     2.905661\n",
       "2484        3.270370     2.821592\n",
       "2485        3.324000     2.823106\n",
       "\n",
       "[2486 rows x 2 columns]"
      ]
     },
     "execution_count": 1020,
     "metadata": {},
     "output_type": "execute_result"
    }
   ],
   "source": [
    "new_df = pd.get_dummies(new_df, columns = ['subject'], drop_first = True)\n",
    "spring_X = new_df[selected_features]\n",
    "\n",
    "spring_pred = model.predict(spring_X)\n",
    "new_df['predictions'] = spring_pred\n",
    "\n",
    "new_df[['actual_average', 'predictions']]"
   ]
  },
  {
   "cell_type": "code",
   "execution_count": 1021,
   "id": "88611e5e",
   "metadata": {},
   "outputs": [
    {
     "data": {
      "text/plain": [
       "0.5545210549925857"
      ]
     },
     "execution_count": 1021,
     "metadata": {},
     "output_type": "execute_result"
    }
   ],
   "source": [
    "mae = metrics.mean_absolute_error(new_df['actual_average'], spring_pred)\n",
    "mae"
   ]
  },
  {
   "cell_type": "code",
   "execution_count": 1022,
   "id": "3c2e39c8",
   "metadata": {},
   "outputs": [
    {
     "data": {
      "text/plain": [
       "0.42722239571262366"
      ]
     },
     "execution_count": 1022,
     "metadata": {},
     "output_type": "execute_result"
    }
   ],
   "source": [
    "r_squared = metrics.r2_score(new_df['actual_average'], spring_pred)\n",
    "r_squared"
   ]
  }
 ],
 "metadata": {
  "kernelspec": {
   "display_name": "Python 3",
   "language": "python",
   "name": "python3"
  },
  "language_info": {
   "codemirror_mode": {
    "name": "ipython",
    "version": 3
   },
   "file_extension": ".py",
   "mimetype": "text/x-python",
   "name": "python",
   "nbconvert_exporter": "python",
   "pygments_lexer": "ipython3",
   "version": "3.8.8"
  }
 },
 "nbformat": 4,
 "nbformat_minor": 5
}
