{
 "cells": [
  {
   "cell_type": "code",
   "execution_count": 397,
   "id": "3558d0d7",
   "metadata": {},
   "outputs": [],
   "source": [
    "import pandas as pd\n",
    "import numpy as np\n",
    "\n",
    "import seaborn as sns\n",
    "sns.set()\n",
    "import matplotlib.pyplot as plt\n",
    "%matplotlib inline\n",
    "\n",
    "from sklearn.model_selection import train_test_split\n",
    "from sklearn.linear_model import LogisticRegression\n",
    "\n",
    "from sklearn.metrics import accuracy_score, precision_score, recall_score, confusion_matrix, f1_score"
   ]
  },
  {
   "cell_type": "code",
   "execution_count": 398,
   "id": "0278f39a",
   "metadata": {},
   "outputs": [],
   "source": [
    "df = pd.read_csv('data/grades.csv')\n",
    "df = df.drop(labels = 0, axis = 0) "
   ]
  },
  {
   "cell_type": "code",
   "execution_count": 399,
   "id": "922e475a",
   "metadata": {},
   "outputs": [
    {
     "name": "stdout",
     "output_type": "stream",
     "text": [
      "(2668, 26)\n"
     ]
    }
   ],
   "source": [
    "df.columns = df.columns.str.replace(' ', '_').str.lower()\n",
    "#print(df.dtypes)\n",
    "possible_grades = ['total_enrolled', 'a+', 'a', 'a-', 'b+', 'b', 'b-', 'c+', 'c', 'p', 'c-', 'd', 'f', 'withdrawal', 'inc/no_grade' ]\n",
    "\n",
    "for i in possible_grades: #converting values from object to integer \n",
    "    df[i] = df[i].astype(int)\n",
    "    \n",
    "df['class_name'] = df['subject'].astype(str) + df['course_number'].astype(str)\n",
    "\n",
    "def writing_intensive(class_num):\n",
    "    if class_num[-1] == 'W':\n",
    "        return True\n",
    "    return False\n",
    "\n",
    "def honors(class_num):\n",
    "    if class_num[-1] == 'H':\n",
    "        return True\n",
    "    return False\n",
    "\n",
    "def pure_number(class_num):\n",
    "    if class_num[-1] == 'W' or class_num[-1] == 'H':\n",
    "        class_num = class_num[:-1]\n",
    "    return class_num\n",
    "\n",
    "df['writing_intensive'] = df['course_number'].apply(writing_intensive)\n",
    "df['honors'] = df['course_number'].apply(honors)\n",
    "df['class_num'] = df['course_number'].apply(pure_number)\n",
    "\n",
    "#print(df.dtypes)\n",
    "\n",
    "print(df.shape)"
   ]
  },
  {
   "cell_type": "code",
   "execution_count": 400,
   "id": "544ef35c",
   "metadata": {},
   "outputs": [],
   "source": [
    "score_1 = (df['a'] + df['a+']) * 4\n",
    "score_2 = (df['a-']) * 3.7\n",
    "score_3 = df['b+'] * 3.3\n",
    "score_4 = df['b'] * 3\n",
    "score_5 = df['b-'] * 2.7\n",
    "score_6 = df['c+'] * 2.3\n",
    "score_7 = (df['c'] + df['p']) * 2\n",
    "score_8 = df['c-'] * 1.7\n",
    "score_9 = df['d'] * 1\n",
    "score_10 = (df['f'] + df['withdrawal'] + df['inc/no_grade']) * 0\n",
    "\n",
    "df['actual_average'] = (score_1 + score_2 + score_3 + score_4 + score_5 + score_6 + score_7 + score_8 + score_9 + score_10)/df['total_enrolled']\n",
    "df['reasonably_passing'] = np.where(df['actual_average'] > 2.5, 1 , 0)\n",
    "\n",
    "save_as = 'data/improved_grades.csv'\n",
    "df.to_csv(save_as, index=False)\n",
    "\n",
    "#df.describe()"
   ]
  },
  {
   "cell_type": "code",
   "execution_count": 401,
   "id": "348edb20",
   "metadata": {},
   "outputs": [
    {
     "data": {
      "text/plain": [
       "Index(['term', 'subject', 'course_number', 'course_description',\n",
       "       'class_section', 'instructor', 'total_enrolled', 'a+', 'a', 'a-', 'b+',\n",
       "       'b', 'b-', 'c+', 'c', 'p', 'c-', 'd', 'f', 'withdrawal', 'inc/no_grade',\n",
       "       'average_gpa', 'class_name', 'writing_intensive', 'honors', 'class_num',\n",
       "       'actual_average', 'reasonably_passing'],\n",
       "      dtype='object')"
      ]
     },
     "execution_count": 401,
     "metadata": {},
     "output_type": "execute_result"
    }
   ],
   "source": [
    "df.isnull().sum() \n",
    "df.duplicated().sum()\n",
    "#no duplicate or null values \n",
    "df.columns"
   ]
  },
  {
   "cell_type": "code",
   "execution_count": 402,
   "id": "5cce24a1",
   "metadata": {},
   "outputs": [
    {
     "data": {
      "text/plain": [
       "1    0.703523\n",
       "0    0.296477\n",
       "Name: reasonably_passing, dtype: float64"
      ]
     },
     "execution_count": 402,
     "metadata": {},
     "output_type": "execute_result"
    }
   ],
   "source": [
    "df.reasonably_passing.value_counts(normalize = True)"
   ]
  },
  {
   "cell_type": "code",
   "execution_count": 403,
   "id": "52baca9e",
   "metadata": {},
   "outputs": [],
   "source": [
    "df = pd.get_dummies(df, columns = ['subject', 'instructor'], drop_first = True)"
   ]
  },
  {
   "cell_type": "code",
   "execution_count": 404,
   "id": "6a5ede01",
   "metadata": {},
   "outputs": [],
   "source": [
    "selected_features = ['class_num', 'total_enrolled', 'class_num', 'writing_intensive', 'honors', 'subject_AFST',\n",
    "       'subject_ANTH', 'subject_ARAB', 'subject_ARTH', 'subject_ARTS',\n",
    "       'subject_ASTR', 'subject_BALA', 'subject_BIOL', 'subject_BUS',\n",
    "       'subject_CERT', 'subject_CESL', 'subject_CHEM', 'subject_CHIN',\n",
    "       'subject_CLAS', 'subject_CMAL', 'subject_CMLIT', 'subject_CO-OP',\n",
    "       'subject_CSCI', 'subject_DANCE', 'subject_DATA', 'subject_DRAM',\n",
    "       'subject_EAST', 'subject_ECON', 'subject_ECPCE', 'subject_ECPEL',\n",
    "       'subject_ECPSE', 'subject_ECPSP', 'subject_EECE', 'subject_ENGL',\n",
    "       'subject_ENSCI', 'subject_EURO', 'subject_FNES', 'subject_FREN',\n",
    "       'subject_GEOL', 'subject_GERM', 'subject_GREEK', 'subject_GRKMD',\n",
    "       'subject_HEBRW', 'subject_HIST', 'subject_HNRS', 'subject_HTH',\n",
    "       'subject_ITAL', 'subject_JAZZ', 'subject_JEWST', 'subject_JPNS',\n",
    "       'subject_KOR', 'subject_LABST', 'subject_LATIN', 'subject_LBSCI',\n",
    "       'subject_LCD', 'subject_LIBR', 'subject_MAM', 'subject_MATH',\n",
    "       'subject_MEDST', 'subject_MES', 'subject_MUSIC', 'subject_PERM',\n",
    "       'subject_PHIL', 'subject_PHOTO', 'subject_PHYS', 'subject_PORT',\n",
    "       'subject_PSCI', 'subject_PSYCH', 'subject_QNS', 'subject_RM',\n",
    "       'subject_RUSS', 'subject_SEEK', 'subject_SEYS', 'subject_SEYSL',\n",
    "       'subject_SOC', 'subject_SPAN', 'subject_STPER', 'subject_URBST',\n",
    "       'subject_WGS']"
   ]
  },
  {
   "cell_type": "code",
   "execution_count": 405,
   "id": "feb97684",
   "metadata": {},
   "outputs": [],
   "source": [
    "X = df[selected_features]\n",
    "y = df['reasonably_passing']"
   ]
  },
  {
   "cell_type": "code",
   "execution_count": 406,
   "id": "c53d78ff",
   "metadata": {},
   "outputs": [],
   "source": [
    "X_train, X_test, y_train, y_test = train_test_split(X, y, test_size=0.2, random_state=45)"
   ]
  },
  {
   "cell_type": "code",
   "execution_count": 407,
   "id": "c22d94cb",
   "metadata": {},
   "outputs": [
    {
     "name": "stdout",
     "output_type": "stream",
     "text": [
      "Length of our Training data: 2134 \n",
      "Length of our Testing data: 534\n"
     ]
    }
   ],
   "source": [
    "print('Length of our Training data:', X_train.shape[0], '\\nLength of our Testing data:', X_test.shape[0])"
   ]
  },
  {
   "cell_type": "code",
   "execution_count": 408,
   "id": "17ace9d8",
   "metadata": {},
   "outputs": [],
   "source": [
    "model = LogisticRegression(max_iter = 3000)"
   ]
  },
  {
   "cell_type": "code",
   "execution_count": 409,
   "id": "05049bc3",
   "metadata": {},
   "outputs": [
    {
     "data": {
      "text/plain": [
       "LogisticRegression(max_iter=3000)"
      ]
     },
     "execution_count": 409,
     "metadata": {},
     "output_type": "execute_result"
    }
   ],
   "source": [
    "model.fit(X_train, y_train)"
   ]
  },
  {
   "cell_type": "code",
   "execution_count": 410,
   "id": "96ff2606",
   "metadata": {},
   "outputs": [],
   "source": [
    "y_pred = model.predict(X_test)"
   ]
  },
  {
   "cell_type": "code",
   "execution_count": 411,
   "id": "44880bdb",
   "metadata": {},
   "outputs": [
    {
     "data": {
      "text/plain": [
       "array([0.87, 0.28, 0.64, 0.94, 0.77, 0.79, 0.87, 0.77, 0.71, 0.75, 0.51,\n",
       "       0.26, 0.74, 0.28, 0.91, 0.84, 0.84, 0.45, 0.82, 0.79, 0.34, 0.65,\n",
       "       0.34, 0.9 , 0.9 , 0.77, 0.83, 0.83, 0.52, 0.83, 0.86, 0.85, 0.87,\n",
       "       0.91, 0.77, 0.75, 0.9 , 0.98, 0.4 , 0.75, 0.52, 0.53, 0.9 , 0.84,\n",
       "       0.37, 0.88, 0.85, 0.52, 0.26, 0.52, 0.77, 0.26, 0.84, 0.84, 0.63,\n",
       "       0.77, 0.31, 0.79, 0.87, 0.83, 0.79, 0.67, 0.77, 0.76, 0.34, 0.66,\n",
       "       0.97, 0.52, 0.52, 0.78, 0.72, 0.79, 0.85, 0.98, 0.94, 0.85, 0.83,\n",
       "       0.63, 0.67, 0.91, 0.69, 0.61, 0.77, 0.72, 0.73, 0.85, 0.85, 0.63,\n",
       "       0.64, 0.34, 0.61, 0.71, 0.52, 0.26, 0.93, 0.25, 0.92, 0.77, 0.76,\n",
       "       0.84, 0.34, 0.87, 0.66, 0.94, 0.37, 0.34, 0.79, 0.85, 0.91, 0.78,\n",
       "       0.79, 0.26, 0.78, 0.83, 0.52, 0.66, 0.77, 0.37, 0.86, 0.34, 0.52,\n",
       "       0.84, 0.72, 0.25, 0.91, 0.87, 0.25, 0.93, 0.79, 0.65, 0.63, 0.98,\n",
       "       0.94, 0.75, 0.78, 0.67, 0.83, 0.74, 0.72, 0.67, 0.98, 0.52, 0.67,\n",
       "       0.79, 0.71, 0.43, 0.9 , 0.34, 0.67, 0.86, 0.52, 0.26, 0.79, 0.8 ,\n",
       "       0.88, 0.91, 0.83, 0.26, 0.72, 0.84, 0.46, 0.7 , 0.66, 0.65, 0.94,\n",
       "       0.26, 0.83, 0.78, 0.66, 0.98, 0.43, 0.7 , 0.79, 0.8 , 0.83, 0.8 ,\n",
       "       0.75, 0.91, 0.84, 0.84, 0.94, 0.91, 0.79, 0.9 , 0.85, 0.67, 0.83,\n",
       "       0.86, 0.69, 0.9 , 0.94, 0.79, 0.52, 0.84, 0.84, 0.66, 0.75, 0.94,\n",
       "       0.9 , 0.8 , 0.65, 0.53, 0.9 , 0.53, 0.34, 0.84, 0.37, 0.93, 0.74,\n",
       "       0.77, 0.82, 0.78, 0.83, 0.79, 0.93, 0.88, 0.35, 0.93, 0.63, 0.8 ,\n",
       "       0.77, 0.86, 0.86, 0.87, 0.26, 0.52, 0.84, 0.74, 0.26, 0.84, 0.89,\n",
       "       0.93, 0.85, 0.86, 0.79, 0.68, 0.52, 0.79, 0.25, 0.67, 0.77, 0.26,\n",
       "       0.71, 0.84, 0.9 , 0.34, 0.77, 0.9 , 0.83, 0.67, 0.79, 0.66, 0.64,\n",
       "       0.8 , 0.79, 0.74, 0.8 , 0.81, 0.75, 0.94, 0.39, 0.98, 0.57, 0.74,\n",
       "       0.76, 0.94, 0.34, 0.26, 0.39, 0.89, 0.96, 1.  , 0.75, 0.9 , 0.87,\n",
       "       0.34, 0.38, 0.33, 0.83, 0.53, 0.9 , 0.34, 0.79, 0.84, 0.67, 0.69,\n",
       "       0.98, 0.25, 0.85, 0.66, 0.65, 0.94, 0.67, 0.83, 0.34, 0.9 , 0.7 ,\n",
       "       0.72, 0.69, 0.52, 0.77, 0.75, 0.82, 0.87, 0.82, 0.77, 0.66, 0.53,\n",
       "       0.77, 0.82, 0.84, 0.83, 0.61, 0.8 , 0.75, 0.77, 0.97, 0.71, 0.88,\n",
       "       0.81, 0.79, 0.91, 0.79, 0.52, 0.75, 0.59, 0.86, 0.79, 0.87, 0.77,\n",
       "       0.31, 0.67, 0.77, 0.66, 0.92, 0.91, 0.86, 0.7 , 0.76, 0.38, 0.66,\n",
       "       0.33, 0.34, 0.65, 0.85, 0.85, 0.84, 0.77, 0.55, 0.79, 0.75, 0.83,\n",
       "       0.79, 0.52, 0.8 , 0.77, 0.64, 0.94, 0.68, 0.85, 0.75, 0.94, 0.69,\n",
       "       0.77, 0.79, 0.67, 0.83, 0.52, 0.81, 0.67, 0.52, 0.26, 0.66, 0.63,\n",
       "       0.83, 0.77, 0.52, 0.52, 0.82, 0.93, 0.63, 0.82, 0.37, 0.83, 0.47,\n",
       "       0.93, 0.26, 0.78, 0.84, 0.67, 0.69, 0.52, 0.94, 0.26, 0.52, 0.84,\n",
       "       0.43, 0.94, 0.82, 0.69, 0.66, 0.61, 0.53, 0.67, 0.97, 0.79, 0.75,\n",
       "       0.98, 0.53, 0.66, 0.66, 0.77, 0.94, 0.87, 0.93, 0.75, 0.83, 0.69,\n",
       "       0.98, 0.72, 0.66, 0.26, 0.83, 0.49, 0.69, 0.58, 0.79, 0.83, 0.34,\n",
       "       0.89, 0.66, 0.67, 0.91, 0.85, 0.93, 0.83, 0.78, 0.77, 0.79, 0.77,\n",
       "       0.26, 0.81, 0.85, 0.97, 0.87, 0.98, 0.84, 0.79, 0.79, 0.91, 0.92,\n",
       "       0.34, 0.61, 0.83, 0.66, 0.94, 0.84, 0.83, 0.91, 0.67, 0.9 , 0.67,\n",
       "       0.84, 0.83, 0.68, 0.71, 0.85, 0.83, 0.63, 0.77, 0.34, 0.71, 0.74,\n",
       "       0.93, 0.52, 0.63, 0.66, 0.86, 0.77, 0.25, 0.98, 0.84, 0.25, 0.37,\n",
       "       0.94, 0.33, 0.98, 0.66, 0.67, 0.26, 0.88, 0.93, 0.34, 0.25, 0.79,\n",
       "       0.67, 0.82, 0.76, 0.75, 0.79, 0.91, 0.6 , 0.83, 0.8 , 0.94, 0.53,\n",
       "       0.67, 0.46, 0.42, 0.69, 0.75, 0.7 , 0.52, 0.69, 0.79, 0.83, 0.52,\n",
       "       0.73, 0.34, 0.84, 0.31, 0.26, 0.93, 0.66, 0.34, 0.26, 0.64, 0.65,\n",
       "       0.66, 0.69, 0.96, 0.91, 0.82, 0.84])"
      ]
     },
     "execution_count": 411,
     "metadata": {},
     "output_type": "execute_result"
    }
   ],
   "source": [
    "y_pred_proba = model.predict_proba(X_test)[:,1]\n",
    "y_pred_proba.round(2)"
   ]
  },
  {
   "cell_type": "code",
   "execution_count": 412,
   "id": "5a575112",
   "metadata": {},
   "outputs": [
    {
     "data": {
      "text/plain": [
       "0.7546816479400749"
      ]
     },
     "execution_count": 412,
     "metadata": {},
     "output_type": "execute_result"
    }
   ],
   "source": [
    "accuracy = accuracy_score(y_test, y_pred)\n",
    "accuracy"
   ]
  },
  {
   "cell_type": "code",
   "execution_count": 413,
   "id": "dabd54f9",
   "metadata": {},
   "outputs": [
    {
     "data": {
      "text/plain": [
       "0.7675438596491229"
      ]
     },
     "execution_count": 413,
     "metadata": {},
     "output_type": "execute_result"
    }
   ],
   "source": [
    "precision = precision_score(y_test, y_pred)\n",
    "precision"
   ]
  },
  {
   "cell_type": "code",
   "execution_count": 414,
   "id": "fce4067c",
   "metadata": {},
   "outputs": [
    {
     "data": {
      "text/plain": [
       "0.9333333333333333"
      ]
     },
     "execution_count": 414,
     "metadata": {},
     "output_type": "execute_result"
    }
   ],
   "source": [
    "recall = recall_score(y_test, y_pred)\n",
    "recall"
   ]
  },
  {
   "cell_type": "code",
   "execution_count": 415,
   "id": "866d7117",
   "metadata": {},
   "outputs": [
    {
     "data": {
      "text/plain": [
       "0.8423586040914561"
      ]
     },
     "execution_count": 415,
     "metadata": {},
     "output_type": "execute_result"
    }
   ],
   "source": [
    "f1 = f1_score(y_test, y_pred)\n",
    "f1"
   ]
  },
  {
   "cell_type": "markdown",
   "id": "e69d4cad",
   "metadata": {},
   "source": [
    "Some notes before leaving:\n",
    "\n",
    "-Instructors are not included as a feature, even though it is arguable that it would be the MOST important feature to include - due to difficulty in creating and including dummy variables for each instructor\n",
    "-Grade for reasonably_passing is arbitrary - I set it as 2.3 (which is equivalent to a C+ average).\n"
   ]
  },
  {
   "cell_type": "code",
   "execution_count": null,
   "id": "2b67cdb4",
   "metadata": {},
   "outputs": [],
   "source": []
  }
 ],
 "metadata": {
  "kernelspec": {
   "display_name": "Python 3",
   "language": "python",
   "name": "python3"
  },
  "language_info": {
   "codemirror_mode": {
    "name": "ipython",
    "version": 3
   },
   "file_extension": ".py",
   "mimetype": "text/x-python",
   "name": "python",
   "nbconvert_exporter": "python",
   "pygments_lexer": "ipython3",
   "version": "3.8.8"
  }
 },
 "nbformat": 4,
 "nbformat_minor": 5
}
