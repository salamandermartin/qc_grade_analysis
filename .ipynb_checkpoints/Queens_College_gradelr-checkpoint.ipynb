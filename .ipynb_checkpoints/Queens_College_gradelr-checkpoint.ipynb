{
 "cells": [
  {
   "cell_type": "code",
   "execution_count": 41,
   "id": "3558d0d7",
   "metadata": {},
   "outputs": [],
   "source": [
    "import pandas as pd\n",
    "import numpy as np\n",
    "\n",
    "import seaborn as sns\n",
    "sns.set()\n",
    "import matplotlib.pyplot as plt\n",
    "%matplotlib inline\n",
    "\n",
    "from sklearn.model_selection import train_test_split\n",
    "from sklearn.linear_model import LogisticRegression\n",
    "\n",
    "from sklearn.metrics import accuracy_score, precision_score, recall_score, confusion_matrix, f1_score"
   ]
  },
  {
   "cell_type": "code",
   "execution_count": 42,
   "id": "0278f39a",
   "metadata": {},
   "outputs": [],
   "source": [
    "df = pd.read_csv('data/grades.csv')\n",
    "df = df.drop(labels = 0, axis = 0) "
   ]
  },
  {
   "cell_type": "code",
   "execution_count": 43,
   "id": "922e475a",
   "metadata": {},
   "outputs": [
    {
     "name": "stdout",
     "output_type": "stream",
     "text": [
      "(2668, 26)\n"
     ]
    }
   ],
   "source": [
    "df.columns = df.columns.str.replace(' ', '_').str.lower()\n",
    "#print(df.dtypes)\n",
    "possible_grades = ['total_enrolled', 'a+', 'a', 'a-', 'b+', 'b', 'b-', 'c+', 'c', 'p', 'c-', 'd', 'f', 'withdrawal', 'inc/no_grade' ]\n",
    "\n",
    "for i in possible_grades: #converting values from object to integer \n",
    "    df[i] = df[i].astype(int)\n",
    "    \n",
    "df['class_name'] = df['subject'].astype(str) + df['course_number'].astype(str)\n",
    "\n",
    "def writing_intensive(class_num):\n",
    "    if class_num[-1] == 'W':\n",
    "        return True\n",
    "    return False\n",
    "\n",
    "def honors(class_num):\n",
    "    if class_num[-1] == 'H':\n",
    "        return True\n",
    "    return False\n",
    "\n",
    "def pure_number(class_num):\n",
    "    if class_num[-1] == 'W' or class_num[-1] == 'H':\n",
    "        class_num = class_num[:-1]\n",
    "    return class_num\n",
    "\n",
    "df['writing_intensive'] = df['course_number'].apply(writing_intensive)\n",
    "df['honors'] = df['course_number'].apply(honors)\n",
    "df['class_num'] = df['course_number'].apply(pure_number)\n",
    "\n",
    "#print(df.dtypes)\n",
    "\n",
    "print(df.shape)"
   ]
  },
  {
   "cell_type": "code",
   "execution_count": 44,
   "id": "544ef35c",
   "metadata": {},
   "outputs": [],
   "source": [
    "score_1 = (df['a'] + df['a+']) * 4\n",
    "score_2 = (df['a-']) * 3.7\n",
    "score_3 = df['b+'] * 3.3\n",
    "score_4 = df['b'] * 3\n",
    "score_5 = df['b-'] * 2.7\n",
    "score_6 = df['c+'] * 2.3\n",
    "score_7 = (df['c'] + df['p']) * 2\n",
    "score_8 = df['c-'] * 1.7\n",
    "score_9 = df['d'] * 1\n",
    "score_10 = (df['f'] + df['withdrawal'] + df['inc/no_grade']) * 0\n",
    "\n",
    "df['actual_average'] = (score_1 + score_2 + score_3 + score_4 + score_5 + score_6 + score_7 + score_8 + score_9 + score_10)/df['total_enrolled']\n",
    "df['reasonably_passing'] = np.where(df['actual_average'] > 2.5, 1 , 0)\n",
    "\n",
    "save_as = 'data/improved_grades.csv'\n",
    "df.to_csv(save_as, index=False)\n",
    "\n",
    "#df.describe()"
   ]
  },
  {
   "cell_type": "code",
   "execution_count": 45,
   "id": "348edb20",
   "metadata": {},
   "outputs": [
    {
     "data": {
      "text/plain": [
       "Index(['term', 'subject', 'course_number', 'course_description',\n",
       "       'class_section', 'instructor', 'total_enrolled', 'a+', 'a', 'a-', 'b+',\n",
       "       'b', 'b-', 'c+', 'c', 'p', 'c-', 'd', 'f', 'withdrawal', 'inc/no_grade',\n",
       "       'average_gpa', 'class_name', 'writing_intensive', 'honors', 'class_num',\n",
       "       'actual_average', 'reasonably_passing'],\n",
       "      dtype='object')"
      ]
     },
     "execution_count": 45,
     "metadata": {},
     "output_type": "execute_result"
    }
   ],
   "source": [
    "df.isnull().sum() \n",
    "df.duplicated().sum()\n",
    "#no duplicate or null values \n",
    "df.columns"
   ]
  },
  {
   "cell_type": "code",
   "execution_count": 46,
   "id": "5cce24a1",
   "metadata": {},
   "outputs": [
    {
     "data": {
      "text/plain": [
       "1    0.703523\n",
       "0    0.296477\n",
       "Name: reasonably_passing, dtype: float64"
      ]
     },
     "execution_count": 46,
     "metadata": {},
     "output_type": "execute_result"
    }
   ],
   "source": [
    "df.reasonably_passing.value_counts(normalize = True)"
   ]
  },
  {
   "cell_type": "code",
   "execution_count": 47,
   "id": "52baca9e",
   "metadata": {},
   "outputs": [],
   "source": [
    "df = pd.get_dummies(df, columns = ['subject', 'instructor'], drop_first = True)"
   ]
  },
  {
   "cell_type": "code",
   "execution_count": 48,
   "id": "6a5ede01",
   "metadata": {},
   "outputs": [
    {
     "name": "stdout",
     "output_type": "stream",
     "text": [
      "['class_num', 'total_enrolled', 'class_num', 'writing_intensive', 'honors', 'subject_AFST', 'subject_ANTH', 'subject_ARAB', 'subject_ARTH', 'subject_ARTS', 'subject_ASTR', 'subject_BALA', 'subject_BIOL', 'subject_BUS', 'subject_CERT', 'subject_CESL', 'subject_CHEM', 'subject_CHIN', 'subject_CLAS', 'subject_CMAL', 'subject_CMLIT', 'subject_CO-OP', 'subject_CSCI', 'subject_DANCE', 'subject_DATA', 'subject_DRAM', 'subject_EAST', 'subject_ECON', 'subject_ECPCE', 'subject_ECPEL', 'subject_ECPSE', 'subject_ECPSP', 'subject_EECE', 'subject_ENGL', 'subject_ENSCI', 'subject_EURO', 'subject_FNES', 'subject_FREN', 'subject_GEOL', 'subject_GERM', 'subject_GREEK', 'subject_GRKMD', 'subject_HEBRW', 'subject_HIST', 'subject_HNRS', 'subject_HTH', 'subject_ITAL', 'subject_JAZZ', 'subject_JEWST', 'subject_JPNS', 'subject_KOR', 'subject_LABST', 'subject_LATIN', 'subject_LBSCI', 'subject_LCD', 'subject_LIBR', 'subject_MAM', 'subject_MATH', 'subject_MEDST', 'subject_MES', 'subject_MUSIC', 'subject_PERM', 'subject_PHIL', 'subject_PHOTO', 'subject_PHYS', 'subject_PORT', 'subject_PSCI', 'subject_PSYCH', 'subject_QNS', 'subject_RM', 'subject_RUSS', 'subject_SEEK', 'subject_SEYS', 'subject_SEYSL', 'subject_SOC', 'subject_SPAN', 'subject_STPER', 'subject_URBST', 'subject_WGS', 'instructor_ABBASIAZAM, A', 'instructor_ABDELGHANY, H', 'instructor_ABDELNABI, H', 'instructor_ABEYWEERA, T', 'instructor_ABRAHAM, K', 'instructor_ABRAMOV, M', 'instructor_ABREU, A', 'instructor_ABREU, D', 'instructor_ACKERMAN, J', 'instructor_ACQUAOTTA, M', 'instructor_ADELBERG, A', 'instructor_ADLER, A', 'instructor_ADRIAN, M', 'instructor_AFTERGOOD, J', 'instructor_AGBEYEGBE, O', 'instructor_AGUILERA, J', 'instructor_AHMED, A', 'instructor_AHN, D', 'instructor_AHRONI, S', 'instructor_AKIBA, D', 'instructor_AKSU, E', 'instructor_ALAYEV, Y', 'instructor_ALBASIRI, E', 'instructor_ALBERGHINI, J', 'instructor_ALBERTS, S', 'instructor_ALBRACHT, L', 'instructor_ALEXIOU, N', 'instructor_ALGER, A', 'instructor_ALI, M', 'instructor_ALIM, J', 'instructor_ALLEN, J', 'instructor_ALRYYES, A', 'instructor_ALSALLAL, A', 'instructor_ALTMAN, A', 'instructor_ALTMAN, J', 'instructor_ALTMAN, M', 'instructor_ALVARADO, S', 'instructor_ALVAREZ, S', 'instructor_ALVES, J', 'instructor_AMANN, A', 'instructor_AMATULLI, R', 'instructor_ANSON-CARTWRIGHT, M', 'instructor_ANTEBI, N', 'instructor_ANTONOVA, K', 'instructor_APRILE, A', 'instructor_ARANBAYEVA, K', 'instructor_ARCHETTI, M', 'instructor_ARMACOST, T', 'instructor_ARMOUR-THOMAS, E', 'instructor_ARMOZA, F', 'instructor_AROUGHETI, J', 'instructor_ARROYO ABAD, A', 'instructor_ARROYO, B', 'instructor_ARTZT, A', 'instructor_ASARO, S', 'instructor_ASHRAF, S', 'instructor_ASIF, S', 'instructor_ASKAROVA, G', 'instructor_ATHANASOPOULOU, M', 'instructor_ATKIN, T', 'instructor_AUFENANGER, M', 'instructor_AVILDSEN, I', 'instructor_AYAZ, O', 'instructor_AZIZ, E', 'instructor_AZZOLLINI, A', 'instructor_BABAD, S', 'instructor_BACCHUS, N', 'instructor_BADZIAI, V', 'instructor_BAILEY, D', 'instructor_BAJOR, L', 'instructor_BAKER, D', 'instructor_BAKER, E', 'instructor_BALCI, P', 'instructor_BALKARAN, D', 'instructor_BALNOVA, N', 'instructor_BALSAM, K', 'instructor_BARAHMAND, U', 'instructor_BARNES JR, G', 'instructor_BARNETT, J', 'instructor_BAROCAS, L', 'instructor_BARON, S', 'instructor_BARONE, E', 'instructor_BARRAGAN, D', 'instructor_BARRERA, E', 'instructor_BASSEY, M', 'instructor_BAUER, A', 'instructor_BAUSONE, A', 'instructor_BEATTY, C', 'instructor_BEAUMONT, A', 'instructor_BECK, K', 'instructor_BEELER, J', 'instructor_BEHAR, E', 'instructor_BEKTESHI, B', 'instructor_BELOFF, Z', 'instructor_BEMBENUTTY, H', 'instructor_BEMPORAD, E', 'instructor_BEN-YAKAR, T', 'instructor_BENAVIDEZ, R', 'instructor_BENNY, J', 'instructor_BERGER, K', 'instructor_BERGEY, B', 'instructor_BERKMAN, D', 'instructor_BERMAN, G', 'instructor_BERNAL, A', 'instructor_BERNSTEIN, E', 'instructor_BERNSTEIN, M', 'instructor_BERNSTEIN, S', 'instructor_BHAIRAM-RAZA, G', 'instructor_BHATTACHARJEE, A', 'instructor_BHUIYAN, A', 'instructor_BILLADO, T', 'instructor_BINYAMINOV, O', 'instructor_BIRD, J', 'instructor_BIRTH, K', 'instructor_BISOGNO, B', 'instructor_BLACK, R', 'instructor_BLACKMAN-RICHARDS, N', 'instructor_BLANFORD, W', 'instructor_BLIGH, P', 'instructor_BLOCH, I', 'instructor_BLUMENFRUCHT, I', 'instructor_BO, T', 'instructor_BODENSTEIN, J', 'instructor_BODNAR, R', 'instructor_BOKLAN, K', 'instructor_BONAPARTE JR, E', 'instructor_BONOMO, C', 'instructor_BOSTWICK, M', 'instructor_BOTEJU, W', 'instructor_BOUHAYAT, S', 'instructor_BOURGOIN, M', 'instructor_BOVENZI, E', 'instructor_BOWMAN, J', 'instructor_BOYD, J', 'instructor_BRACCO, J', 'instructor_BRADBURY, M', 'instructor_BRAUN, M', 'instructor_BREGOLI, F', 'instructor_BREIDENTHAL, M', 'instructor_BREMNER, F', 'instructor_BRETT, M', 'instructor_BREWER, A', 'instructor_BRIENZA, S', 'instructor_BRODY, R', 'instructor_BROGES, A', 'instructor_BROWN, J', 'instructor_BROWN, M', 'instructor_BROWN, R', 'instructor_BROWN, T', 'instructor_BROWN-GRANT, D', 'instructor_BRUMBAUGH, C', 'instructor_BUCHSBAUM, J', 'instructor_BUCKLEY, D', 'instructor_BUDD, A', 'instructor_BUTHMANN, J', 'instructor_BYRD, D', 'instructor_CAAMANO, J', 'instructor_CACCAVALE, T', 'instructor_CAI, A', 'instructor_CAIACCIA, L', 'instructor_CALAMARI, J', 'instructor_CALANDRA, P', 'instructor_CALDWELL, K', 'instructor_CALHOUN, I', 'instructor_CALI, C', 'instructor_CALLIS, C', 'instructor_CANDELO-LONDONO, N', 'instructor_CANDREVA, C', 'instructor_CANNON, J', 'instructor_CAPETANOS, A', 'instructor_CAPRA JR, R', 'instructor_CARR, N', 'instructor_CARRANZA BRITO, M', 'instructor_CARROLL, C', 'instructor_CARTOLANO, J', 'instructor_CARVAJAL, J', 'instructor_CASCO, M', 'instructor_CASE, D', 'instructor_CASSANDRO, K', 'instructor_CASSANO REED, C', 'instructor_CASSANO-REPOLE, M', 'instructor_CASSVAN, J', 'instructor_CASTILLO, C', 'instructor_CASTILLO, G', 'instructor_CASTRO MCGOWAN, R', 'instructor_CATALANO, L', 'instructor_CATALDO, G', 'instructor_CAVIASCO, A', 'instructor_CEA, M', 'instructor_CELELLO, K', 'instructor_CELESTIN, R', 'instructor_CESARETTI, P', 'instructor_CHAN, J', 'instructor_CHAN, L', 'instructor_CHAN, T', 'instructor_CHANG, K', 'instructor_CHAPDELAINE, J', 'instructor_CHARNY, A', 'instructor_CHASE, N', 'instructor_CHECKER, M', 'instructor_CHEEMA, S', 'instructor_CHELOUKHINA, S', 'instructor_CHEN, A', 'instructor_CHEN, C', 'instructor_CHEN, J', 'instructor_CHEN, M', 'instructor_CHEN, Y', 'instructor_CHERNOV, E', 'instructor_CHERNOV, K', 'instructor_CHESTER, M', 'instructor_CHIN HONG, R', 'instructor_CHINNAN, A', 'instructor_CHIU, S', 'instructor_CHO, D', 'instructor_CHOI, J', 'instructor_CHOI, S', 'instructor_CHOUAIB, A', 'instructor_CHOW, J', 'instructor_CHRISTOFORATOS, K', 'instructor_CHU, S', 'instructor_CHUNG, T', 'instructor_CIVILETTI, M', 'instructor_CLARK, L', 'instructor_CLARKE MACKIN, H', 'instructor_CLARKE, A', 'instructor_CLOAREC, Y', 'instructor_COHEN, M', 'instructor_COHEN, N', 'instructor_COHEN, W', 'instructor_COLAJANNI-GUTHENBERG, M', 'instructor_COLELLA, C', 'instructor_COLLINS, J', 'instructor_COLON, C', 'instructor_COLUCCIO, S', 'instructor_COMFORT, G', 'instructor_CONNOR, T', 'instructor_CONOLLY-SMITH, P', 'instructor_CONOSCENTI, R', 'instructor_COOLEY, N', 'instructor_COOPER, P', 'instructor_COOPERSTONE, J', 'instructor_CORDEIRO, C', 'instructor_CORDERO, A', 'instructor_CORNELL, J', 'instructor_CORNETTA, J', 'instructor_CORRADI, M', 'instructor_COSBY, E', 'instructor_COTE, N', 'instructor_COURTADON, G', 'instructor_COVINGTON, S', 'instructor_COWAN DOCKERY, M', 'instructor_COWAN, E', 'instructor_COX-EVANS, C', 'instructor_CRANDALL, E', 'instructor_CROWDER, M', 'instructor_CROWN, T', 'instructor_CUCCHIARA, A', 'instructor_CURRIE, E', \"instructor_D'ATENO, P\", 'instructor_DANIEL, E', 'instructor_DARVIN, J', 'instructor_DAS, K', 'instructor_DAUBER, N', 'instructor_DAVID, A', 'instructor_DAVIDOVICH, I', 'instructor_DAVIE, D', 'instructor_DAVIS, A', 'instructor_DAVIS, M', 'instructor_DAVIS, S', 'instructor_DAY, M', 'instructor_DE BALANZO JOUE, R', 'instructor_DE SOYZA, T', 'instructor_DEB, B', 'instructor_DEBORA, D', 'instructor_DECKLER, M', 'instructor_DEFELICE, A', 'instructor_DEGNAN, B', 'instructor_DEJEAN, R', 'instructor_DELEO, J', 'instructor_DELLOVA, M', 'instructor_DENNEHY, J', 'instructor_DEPINNA, C', 'instructor_DEROSSE, P', 'instructor_DETRES-HICKEY, M', 'instructor_DEUR, A', 'instructor_DEVEREUX, J', 'instructor_DEYCH, D', 'instructor_DEYCH, L', 'instructor_DIAZ, D', 'instructor_DICKSON, A', 'instructor_DIGREGORIO, J', 'instructor_DILTS, A', 'instructor_DIMAGGIO, D', 'instructor_DIMITRAKOPOULOS, J', 'instructor_DIMOLA, L', 'instructor_DING, J', 'instructor_DIONISIO, J', 'instructor_DIPONIO, J', 'instructor_DISARO HALILEJ, J', 'instructor_DIXON, A', 'instructor_DODSON, L', 'instructor_DOLMAN, C', 'instructor_DON, E', 'instructor_DONATO, A', 'instructor_DONG, X', 'instructor_DONG, Y', 'instructor_DORAN, E', 'instructor_DORFMAN, A', 'instructor_DOUGLASS, A', 'instructor_DOUKHAN, A', 'instructor_DRURY, A', 'instructor_DRYER, T', 'instructor_DURRANT, A', 'instructor_DVALISHVILI, A', 'instructor_DYTELL, R', 'instructor_EATON, T', 'instructor_EDMOND, A', 'instructor_EGGLEFIELD, D', 'instructor_EGUIZABAL, M', 'instructor_EHRLICH, M', 'instructor_EINSTEIN, M', 'instructor_ELAN, R', 'instructor_ELGHAZOLY, S', 'instructor_ELI, O', 'instructor_ELISHA, O', 'instructor_ELK, C', 'instructor_ELMANASIR, W', 'instructor_ELVIRA MATHEZ, R', 'instructor_EMBREE, K', 'instructor_EMMETT, J', 'instructor_EMRICH, J', 'instructor_ENGHEBEN, J', 'instructor_ENGLISH, H', 'instructor_ERLBAUM, S', 'instructor_ESPOSITO, C', 'instructor_ESQUEN, R', 'instructor_EVANGELISTA, L', 'instructor_EVANS, C', 'instructor_EVANS, K', 'instructor_EWING, S', 'instructor_FADOUL, P', 'instructor_FAGUNDES, L', 'instructor_FAHERTY, D', 'instructor_FAIRCHILD, V', 'instructor_FAIVRE, G', 'instructor_FALLER, M', 'instructor_FAN, J', 'instructor_FARENGA, S', 'instructor_FARRELL, C', 'instructor_FARRELL, E', 'instructor_FARRINGTON, K', 'instructor_FASOS, S', 'instructor_FAUGHEY, D', 'instructor_FEDER, R', 'instructor_FEELEY, F', 'instructor_FEINER, H', 'instructor_FEINSTEIN, M', 'instructor_FEINTUCH, F', 'instructor_FEISULLIN, A', 'instructor_FELDMAR, G', 'instructor_FELDSTEIN, C', 'instructor_FELICIANO, Z', 'instructor_FENIG, B', 'instructor_FERGUSON, K', 'instructor_FERNANDEZ, A', 'instructor_FERRARA, D', 'instructor_FIANI, T', 'instructor_FIGEL, E', 'instructor_FIGELMAN, R', 'instructor_FISCHTHAL, A', 'instructor_FISH, M', 'instructor_FISK, G', 'instructor_FITTANTE, C', 'instructor_FITZSIMONS, S', 'instructor_FLAMHAFT, Z', 'instructor_FLAUCHER, R', 'instructor_FLEMING, L', 'instructor_FLOWERS, D', 'instructor_FLOWERS, X', 'instructor_FLUTURE, S', 'instructor_FLYNN, A', 'instructor_FOGARTY, E', 'instructor_FORTUNATO, A', 'instructor_FOUYER, N', 'instructor_FRABONI, M', 'instructor_FRANKLIN, A', 'instructor_FRARY, N', 'instructor_FREDRICK III, R', 'instructor_FREEMAN, E', 'instructor_FREUNDSCHUH, A', 'instructor_FRIDELL, C', 'instructor_FRIED, A', 'instructor_FRIED, M', 'instructor_FRIEDLAND, L', 'instructor_FRISZ-GIOIA, S', 'instructor_FUJIMOTO, M', 'instructor_FUQUA, J', 'instructor_FURNARI, J', 'instructor_FUSCO, N', 'instructor_GABEL, D', 'instructor_GABRIELE, C', 'instructor_GAILING, A', 'instructor_GALAL, O', 'instructor_GALANAUGH, L', 'instructor_GALARRAGA, C', 'instructor_GALLER, D', 'instructor_GALLUCCI, M', 'instructor_GANDJIAN, B', 'instructor_GANGARAM, E', 'instructor_GANGJI, A', 'instructor_GAO, T', 'instructor_GARCIA SILVA, D', 'instructor_GARCIA, K', 'instructor_GARDAPHE, F', 'instructor_GARGANOURAKIS, I', 'instructor_GAROFALO, S', 'instructor_GARRISON, E', 'instructor_GATTO, V', 'instructor_GAVARRETE OLVERA, A', 'instructor_GEBHART, B', 'instructor_GELFAND, S', 'instructor_GELMI, A', 'instructor_GEORGE, J', 'instructor_GERBER, S', 'instructor_GERWIN, D', 'instructor_GHULAM, N', 'instructor_GIATTI, L', 'instructor_GIBSON, L', 'instructor_GIGANTE, M', 'instructor_GILBERT, V', 'instructor_GILLMAN, P', 'instructor_GINALIS, C', 'instructor_GIROD, F', 'instructor_GIUSTO, M', 'instructor_GJONLEKAJ, M', 'instructor_GLASS, P', 'instructor_GLICKMAN, N', 'instructor_GLOSTER, D', 'instructor_GOFF, F', 'instructor_GOKHALE, V', 'instructor_GOLD, H', 'instructor_GOLDBERG, D', 'instructor_GOLDBERG, G', 'instructor_GOLDBERG, J', 'instructor_GOLDBERG, R', 'instructor_GOLDHABER, S', 'instructor_GOLDMAN, S', 'instructor_GOMEZ, I', 'instructor_GOMEZ, S', 'instructor_GONZALEZ, A', 'instructor_GONZALEZ, R', 'instructor_GONZALEZ, T', 'instructor_GOOD, J', 'instructor_GOODMAN, M', 'instructor_GORDILLO, F', 'instructor_GOSALA, R', 'instructor_GOSWAMI, M', 'instructor_GOUEDE, K', 'instructor_GRAY-NICOLAS, N', 'instructor_GRECO, M', 'instructor_GREEN, K', 'instructor_GREENBERG, A', 'instructor_GREENBERG, J', 'instructor_GREENBERG, R', 'instructor_GREENFIELD, D', 'instructor_GREENMAN, J', 'instructor_GREENSTEIN, C', 'instructor_GRELLA, D', 'instructor_GRIER, M', 'instructor_GRIFFITH, W', 'instructor_GRINBERG, A', 'instructor_GROVER, S', 'instructor_GRUBER, D', 'instructor_GRUENDLER, B', 'instructor_GRULLON, A', 'instructor_GRUZA, M', 'instructor_GUADALUPE, J', 'instructor_GUO, W', 'instructor_GURL, T', 'instructor_GUSKIN, J', 'instructor_GUZMAN, C', 'instructor_HACKER, A', 'instructor_HACKER, C', 'instructor_HACKETT, E', 'instructor_HACKIMER, L', 'instructor_HADI, S', 'instructor_HAEHLEN, G', 'instructor_HAHN, K', 'instructor_HALLER, S', 'instructor_HALLIBURTON, M', 'instructor_HAN, H', 'instructor_HAN, N', 'instructor_HANKS, S', 'instructor_HANLON, M', 'instructor_HANSON, D', 'instructor_HANTZANDREOU, K', 'instructor_HANUSA, C', 'instructor_HARRIS, L', 'instructor_HARRIS, S', 'instructor_HART, A', 'instructor_HARTE, C', 'instructor_HARTEL JR, H', 'instructor_HARTMANN, N', 'instructor_HAUPTMAN, I', 'instructor_HAZAS, T', 'instructor_HE GU, A', 'instructor_HEALEY, M', 'instructor_HEAP, P', 'instructor_HEBERT, P', 'instructor_HEDRICK, T', 'instructor_HEFFERNAN, L', 'instructor_HELFAND, S', 'instructor_HELLAUER, S', 'instructor_HELLER, P', 'instructor_HELMAN, M', 'instructor_HENDREY, G', 'instructor_HENRIQUEZ, M', 'instructor_HEOR, W', 'instructor_HERARD, G', 'instructor_HERCZOG, L', 'instructor_HERMAN, A', 'instructor_HERRERA LIENDO, L', 'instructor_HERSH, W', 'instructor_HERZOG, A', 'instructor_HICKS, B', 'instructor_HILLIARD, M', 'instructor_HINOJOS, S', 'instructor_HINTON, V', 'instructor_HITZIG, N', 'instructor_HIZME, R', 'instructor_HLINKA, L', 'instructor_HO, J', 'instructor_HO, S', 'instructor_HO, V', 'instructor_HOLCHAK, P', 'instructor_HOLTZMAN, N', 'instructor_HONARI-LATIFPOUR, M', 'instructor_HONG, C', 'instructor_HOOVER, R', 'instructor_HOPPER, B', 'instructor_HORNUNG, D', 'instructor_HOUSSEAS, E', 'instructor_HOXIE, I', 'instructor_HSIN, A', 'instructor_HU, B', 'instructor_HU, G', 'instructor_HUANG, A', 'instructor_HUANG, B', 'instructor_HUANG, Q', 'instructor_HUANG, X', 'instructor_HUANG, Y', 'instructor_HULL, G', 'instructor_HUM, T', 'instructor_HUMPHRIES, G', 'instructor_HUSAIN, A', 'instructor_HWANG, D', 'instructor_HYATT, F', 'instructor_IGNALL, J', 'instructor_IJALBA, E', 'instructor_INDERDEO, S', 'instructor_INGRAM, A', 'instructor_IOANNIDES, C', 'instructor_ISLAM, M', 'instructor_ISLAM, T', 'instructor_ISSEVENLER, T', 'instructor_IVIE, D', 'instructor_IZQUIERDO, S', 'instructor_JABEEN, S', 'instructor_JACKMAN, G', 'instructor_JACKSON, S', 'instructor_JACOBS, R', 'instructor_JAFRI JR, S', 'instructor_JAGDEO, M', 'instructor_JASTI, S', 'instructor_JESSEL, C', 'instructor_JIANG, Y', 'instructor_JOANIDHI, Z', 'instructor_JOCKIN, T', 'instructor_JOHN, E', 'instructor_JOHN, J', 'instructor_JOHNSON, A', 'instructor_JOHNSON, K', 'instructor_JOHNSON, R', 'instructor_JOLLEY, D', 'instructor_JONES, E', 'instructor_JOSEPH, E', 'instructor_JOSEPH, M', 'instructor_JOSEPH, R', 'instructor_JUN, E', 'instructor_KABIR, H', 'instructor_KABIR, M', 'instructor_KABUTO, B', 'instructor_KAHAN, S', 'instructor_KALAMARAS, J', 'instructor_KALRA, P', 'instructor_KANE, J', 'instructor_KANG, J', 'instructor_KANG, S', 'instructor_KANT, A', 'instructor_KAPELNER, A', 'instructor_KAPUSCINSKI, S', 'instructor_KARAKAYA, L', 'instructor_KAROL, D', 'instructor_KATSAN, G', 'instructor_KATTEN, E', 'instructor_KATZ, J', 'instructor_KAUPER, K', 'instructor_KEANE, A', 'instructor_KEEM, M', 'instructor_KELLEHER, J', 'instructor_KELLER, I', 'instructor_KELLOGG, R', 'instructor_KELLY, C', 'instructor_KENNEDY, S', 'instructor_KESLER, T', 'instructor_KHALID, Z', 'instructor_KHALIL, A', 'instructor_KHAN, A', 'instructor_KHAN, C', 'instructor_KHANDELWAL, M', 'instructor_KIBIRIGE, H', 'instructor_KIELY, M', 'instructor_KIM, A', 'instructor_KIM, J', 'instructor_KIM, S', 'instructor_KIM, T', 'instructor_KIM-LAMBERT, G', 'instructor_KIMATOV, M', 'instructor_KIMERLING, J', 'instructor_KIRSCHNER, D', 'instructor_KISILEVSKY, S', 'instructor_KLEIN, L', 'instructor_KLOSIN, K', 'instructor_KNABLE, S', 'instructor_KNUDSEN, E', 'instructor_KO, S', 'instructor_KONARSKI, I', 'instructor_KONG, T', 'instructor_KONG, X', 'instructor_KOROLEVA, E', 'instructor_KOROVESHI, B', 'instructor_KORPIJAAKKO, T', 'instructor_KOSINSKI, K', 'instructor_KOTLER, M', 'instructor_KOUAKOU, E', 'instructor_KOURASSANIS-VELASQUEZ, J', 'instructor_KOVACS, L', 'instructor_KRAMER, K', 'instructor_KRASNER, M', 'instructor_KUHN, S', 'instructor_KULKARNI, A', 'instructor_KUMAR, V', 'instructor_KUPFER, D', 'instructor_KUSKOVSKY, I', 'instructor_KYLE, J', 'instructor_LACKER, W', 'instructor_LAHTI, D', 'instructor_LAI, M', 'instructor_LALLOS, G', 'instructor_LAMELA LOPEZ, R', 'instructor_LAMONACA, T', 'instructor_LANDAU, G', 'instructor_LANG, A', 'instructor_LARIAN, L', 'instructor_LARSON, S', 'instructor_LARSSON, A', 'instructor_LASKER, M', 'instructor_LAURENSON, D', 'instructor_LAVERDE, A', 'instructor_LAW, R', 'instructor_LEAVITT, D', 'instructor_LEE, C', 'instructor_LEE, D', 'instructor_LEE, E', 'instructor_LEE, F', 'instructor_LEE, H', 'instructor_LEE, J', 'instructor_LEHMAN, E', 'instructor_LEHMAN, S', 'instructor_LEIBOWICZ, B', 'instructor_LEMANCZYK, M', 'instructor_LEMONDA, T', 'instructor_LENNON, P', 'instructor_LENZER, J', 'instructor_LETNIKOVA, G', 'instructor_LEVENTHAL, D', 'instructor_LEVENTHAL, S', 'instructor_LEVIS, N', 'instructor_LEWIS, P', 'instructor_LEYNSE, W', 'instructor_LI, H', 'instructor_LI, J', 'instructor_LI, P', 'instructor_LI, X', 'instructor_LIAV, I', 'instructor_LIEB, N', 'instructor_LIEBMAN, M', 'instructor_LIEBOVITCH, L', 'instructor_LILLI, E', 'instructor_LIMBERT, M', 'instructor_LIN, Y', 'instructor_LINDSAY, M', 'instructor_LINN, D', 'instructor_LIPNEVICH, A', 'instructor_LIPSEY, M', 'instructor_LIPSITZ, K', 'instructor_LIPYANSKIY, M', 'instructor_LISYANSKY, A', 'instructor_LIU, G', 'instructor_LIU, J', 'instructor_LIU, Z', 'instructor_LLORENS, I', 'instructor_LOMBARDI, L', 'instructor_LONGPRE, M', 'instructor_LOOK, E', 'instructor_LOOSER, J', 'instructor_LOPEZ CAMARA, J', 'instructor_LOPEZ GARCIA, D', 'instructor_LOPEZ, E', 'instructor_LOPEZ, J', 'instructor_LORD, A', 'instructor_LORD, D', 'instructor_LORD, K', 'instructor_LORENZINI, M', 'instructor_LOVE, L', 'instructor_LOWE, M', 'instructor_LOWRY, J', 'instructor_LOZADA, J', 'instructor_LUCCHI, N', 'instructor_LUDMAN, A', 'instructor_LUKASIEWICZ, E', 'instructor_LUO, C', 'instructor_LYONS, J', 'instructor_MA, L', 'instructor_MA, P', 'instructor_MA, Z', 'instructor_MACDONALD, W', 'instructor_MACHEN, K', 'instructor_MACKIE, L', 'instructor_MACKREL, D', 'instructor_MADACSI, N', 'instructor_MADHOW, S', 'instructor_MADIMENOS, F', 'instructor_MADZHAROVA, M', 'instructor_MAK, C', 'instructor_MAKIHARA, M', 'instructor_MALIN, S', 'instructor_MALINOSKI, A', 'instructor_MALYUKOVA, A', 'instructor_MANCUSSO, R', 'instructor_MANFREDO, R', 'instructor_MANGIAPANELLO, K', 'instructor_MANHEIM, G', 'instructor_MANISCALCO, J', 'instructor_MANNING, K', 'instructor_MAQBOOL, A', 'instructor_MARCELLO, E', 'instructor_MAREST, L', 'instructor_MARGARITA, E', 'instructor_MARKBREITER, C', 'instructor_MARKINSON, M', 'instructor_MARKOWITZ, E', 'instructor_MARKOWITZ, T', 'instructor_MAROTTA, R', 'instructor_MAROULES, G', 'instructor_MARROQUIN, M', 'instructor_MARSHALL, C', 'instructor_MARTES, H', 'instructor_MARTIN, C', 'instructor_MARTINEZ, M', 'instructor_MARTINEZ, P', 'instructor_MARTINEZTORREJON, J', 'instructor_MARZEC, A', 'instructor_MASTERS, B', 'instructor_MATTA, M', 'instructor_MAUTARELLI, M', 'instructor_MAXWELL, R', 'instructor_MAZZO, M', 'instructor_MCCARVILLE, E', 'instructor_MCCAUL, P', 'instructor_MCCLEAVE, L', 'instructor_MCCULLOUGH, S', 'instructor_MCGEE, S', 'instructor_MCHUGH, S', 'instructor_MELENDEZ, A', 'instructor_MENGISTE, M', 'instructor_MERIC, A', 'instructor_MERINO, J', 'instructor_MESA-PELLY, D', 'instructor_MEYER, M', 'instructor_MEYERS, A', 'instructor_MEYERS, J', 'instructor_MICELI, S', 'instructor_MICHEL, R', 'instructor_MICIC, D', 'instructor_MIHELAKIS, K', 'instructor_MILAN, M', 'instructor_MILICH, M', 'instructor_MILLER, D', 'instructor_MILLER, H', 'instructor_MILLER, R', 'instructor_MINER, P', 'instructor_MINIELLI, G', 'instructor_MIRABELLA, N', 'instructor_MIRI, M', 'instructor_MIRKIN, M', 'instructor_MITCHELL, K', 'instructor_MITCHELL, T', 'instructor_MITRA, S', 'instructor_MIYAJIMA, K', 'instructor_MIZUTANI, R', 'instructor_MOHAMED, A', 'instructor_MONCADA-DAVIDSON, L', 'instructor_MONDA, I', 'instructor_MONROY, J', 'instructor_MONTANA, O', 'instructor_MONTERO MERCEDES, A', 'instructor_MORAGA, P', 'instructor_MORAN, P', 'instructor_MORELAND, W', 'instructor_MORGAN, P', 'instructor_MORK, R', 'instructor_MORRISON-DIALLO, J', 'instructor_MOSCARDI, I', 'instructor_MOSENSON, A', 'instructor_MOSSMAN, M', 'instructor_MOUDROV, A', 'instructor_MOURRA, D', 'instructor_MUEHLBAUER, E', 'instructor_MUELLER, N', 'instructor_MUKHERJEE, R', 'instructor_MULFORD, A', 'instructor_MULLEN, Z', 'instructor_MULONE, J', 'instructor_MYERS, E', 'instructor_MYERS, T', 'instructor_MYRTHIL, R', 'instructor_NADEAU, R', 'instructor_NAKAYAMA, A', 'instructor_NATALIE, J', 'instructor_NAVARRA, C', 'instructor_NAVARRO, M', 'instructor_NAZERIAN, A', 'instructor_NDUKA, U', 'instructor_NELSON, R', 'instructor_NEUMANN, Y', 'instructor_NEVAREZ, B', 'instructor_NEWMAN, K', 'instructor_NEWMAN, M', 'instructor_NG, A', 'instructor_NG, S', 'instructor_NICASTRO, S', 'instructor_NICHOLS, J', 'instructor_NICOLOSI, L', 'instructor_NIELSEN, J', 'instructor_NIGRELLI, U', 'instructor_NILL, J', 'instructor_NIR, O', 'instructor_NISANOV, R', 'instructor_NITZBERG, R', 'instructor_NIX, J', 'instructor_NOGUES MARTIN, P', 'instructor_NOLE, L', 'instructor_NORTON, L', 'instructor_NOVACICH, S', 'instructor_NUTTER, G', \"instructor_O'CONNOR, P\", \"instructor_O'MANIQUE, S\", \"instructor_O'MULLAN, G\", \"instructor_O'NEIL, S\", \"instructor_O'NEILL, J\", 'instructor_OBRENIC, B', 'instructor_OCANDO, J', 'instructor_OHARA, J', 'instructor_OLIVEIRA, M', 'instructor_ORANJIAN, N', 'instructor_ORENSTEIN, A', 'instructor_ORT, T', 'instructor_ORTEGA, F', 'instructor_ORTIZ, B', 'instructor_ORTON HATZIS, A', 'instructor_OSBORN, D', 'instructor_OSBORNE, H', 'instructor_OSSA PARRA, M', 'instructor_OSTLING, J', 'instructor_OSTROWSKY, A', 'instructor_OUTES-LEON, B', 'instructor_OVCHINNIKOV, A', 'instructor_OVERHOLT, S', 'instructor_PACCIONE, K', 'instructor_PAGANO, A', 'instructor_PAGANO, C', 'instructor_PAIZIS, A', 'instructor_PANDAZIS, M', 'instructor_PANG, C', 'instructor_PANGILINAN, R', 'instructor_PAPIGIOTIS, A', 'instructor_PARK, A', 'instructor_PARK, S', 'instructor_PARONZINI, N', 'instructor_PARRY, R', 'instructor_PASCARELLA, J', 'instructor_PASLAWSKI, M', 'instructor_PASTORE, J', 'instructor_PATTON, J', 'instructor_PAULICELLI, E', 'instructor_PAULSON, S', 'instructor_PAYNE, R', 'instructor_PECHENKINA, E', 'instructor_PEKAR, S', 'instructor_PELLITTERI, J', 'instructor_PENA, B', 'instructor_PENSAK, S', 'instructor_PEREDO, R', 'instructor_PEREIRA, J', 'instructor_PERELMUTER, L', 'instructor_PEREZ, J', 'instructor_PEREZ, V', 'instructor_PERMITINA, O', 'instructor_PERNICANO, K', 'instructor_PERRONE, M', 'instructor_PETALUDIS, N', 'instructor_PHILIP, M', 'instructor_PHILLIPS, T', 'instructor_PHILLIPS-KONG, K', 'instructor_PIERRE, N', 'instructor_PIERRE-LOUIS, F', 'instructor_PINDLING, M', 'instructor_PINNOCK, V', 'instructor_PIO, M', 'instructor_PIROVOLIKOS, F', 'instructor_PISARI, D', 'instructor_PISETSKAYA, A', 'instructor_PLICHTA, S', 'instructor_PLOSIA, T', 'instructor_PLUMMER, T', 'instructor_POCSAI, M', 'instructor_POGOSYAN, M', 'instructor_POLISH, J', 'instructor_POLITIS, S', 'instructor_PORCHETTA, E', 'instructor_POUREBRAHIMI ANDOUHJERDI, A', 'instructor_POWELL, M', 'instructor_POWERS, E', 'instructor_POWERS, W', 'instructor_PRANDO, N', 'instructor_PRESTAMO, J', 'instructor_PREWETT, S', 'instructor_PRICE, A', 'instructor_PRICE, E', 'instructor_PRICE, M', 'instructor_PRIESTLY, D', 'instructor_PROCTOR, S', 'instructor_PUGH, T', 'instructor_PUGLISI, M', 'instructor_PURVIN, E', 'instructor_QAMAR, Z', 'instructor_QUESADA NIETO, L', 'instructor_QUILES GONZALEZ, N', 'instructor_QURESHI, A', 'instructor_RACANIELLO, K', 'instructor_RAFEEQ, A', 'instructor_RAFFAELE, C', 'instructor_RAHMAN, A', 'instructor_RAHMAN, M', 'instructor_RAHYAB, M', 'instructor_RALESCU, S', 'instructor_RAMACHANDRAN, N', 'instructor_RAMADANIS, A', 'instructor_RANALDI, R', 'instructor_RANCHOR, K', 'instructor_RAYMUNDO, A', 'instructor_RECINOS VASQUEZ, E', 'instructor_REECE, K', 'instructor_REED, P', 'instructor_REGANATO, L', 'instructor_REICH, S', 'instructor_REICH, T', 'instructor_REICHERT, J', 'instructor_REICHL, A', 'instructor_RENZ, A', 'instructor_REYNOLDS, N', 'instructor_REZVANI, F', 'instructor_RHINDRESS, M', 'instructor_RHO, Y', 'instructor_RICHIE, J', 'instructor_RIGOGIANNIS, E', 'instructor_RIPLEY, E', 'instructor_RITT, M', 'instructor_RIVERA, D', 'instructor_RIVERA, L', 'instructor_ROBILA, M', 'instructor_ROBINSON, G', 'instructor_RODRIQUEZ, P', 'instructor_ROFF, J', 'instructor_ROGERS, H', 'instructor_ROGINSKI, K', 'instructor_ROLDAN AYALA, Z', 'instructor_ROLLINS, J', 'instructor_ROMERA BARBERA, A', 'instructor_ROMERO, P', 'instructor_RONG, Y', 'instructor_ROSALES, K', 'instructor_ROSARIO, E', 'instructor_ROSE, N', 'instructor_ROSEN, M', 'instructor_ROSEN, T', 'instructor_ROSENBLOOM, S', 'instructor_ROSSABI, M', 'instructor_ROTELLA, F', 'instructor_ROTENBERG, S', 'instructor_ROTHENBERG, R', 'instructor_ROTHSTEIN, A', 'instructor_ROWE, S', 'instructor_ROY CHOWDHURY, S', 'instructor_ROZANOVA, K', 'instructor_ROZOVSKAYA, A', 'instructor_RUBIN, J', 'instructor_RUBINSTEIN, E', 'instructor_RUGGIERO, K', 'instructor_RUIZ LOPEZ, C', 'instructor_RUPPRECHT, C', 'instructor_RUSHIA, S', 'instructor_RUSHKOFF, D', 'instructor_RUSSELL-GILLER, S', 'instructor_RUSSO, D', 'instructor_RUTHIZER, S', 'instructor_RYAN, M', 'instructor_RYBA, A', 'instructor_RYDZEWSKI, M', 'instructor_SABITOVA, M', 'instructor_SADHOO, T', 'instructor_SAG PARVARDEH, Y', 'instructor_SAGE, D', 'instructor_SAINT-HILAIRE, L', 'instructor_SALAMATBAD, M', 'instructor_SALAZAR MONARREZ, D', 'instructor_SALAZAR, M', 'instructor_SALCER, A', 'instructor_SALINAS, J', 'instructor_SALTZMAN, E', 'instructor_SALVATIERRA, C', 'instructor_SAMUEL, S', 'instructor_SAMUNI, U', 'instructor_SAN, K', 'instructor_SANCHEZ GOMEZ, R', 'instructor_SANCHEZ, J', 'instructor_SAND, J', 'instructor_SANDERS, B', 'instructor_SANDERS, S', 'instructor_SANGIORGI, T', 'instructor_SANKAR, C', 'instructor_SANTIAGO, B', 'instructor_SARDELL, A', 'instructor_SARGENT, M', 'instructor_SATENSTEIN, J', 'instructor_SAUREL-SCHUMACHER, E', 'instructor_SAYLOR, B', 'instructor_SCHAFFER, T', 'instructor_SCHANOES, V', 'instructor_SCHATZ, S', 'instructor_SCHETTINO, B', 'instructor_SCHIFF, S', 'instructor_SCHLEY, R', 'instructor_SCHLICHTING, K', 'instructor_SCHMITT, D', 'instructor_SCHNUR, K', 'instructor_SCHULMAN, J', 'instructor_SCHWALB, H', 'instructor_SCHWARTZ, T', 'instructor_SCHWARZ, S', 'instructor_SCOTT, A', 'instructor_SEDARAT, R', 'instructor_SEDEWITCH, H', 'instructor_SEGAL, M', 'instructor_SEIFMAN, S', 'instructor_SELIGSON, J', 'instructor_SENA, I', 'instructor_SEPE, S', 'instructor_SEYMORE, J', 'instructor_SHADY, A', 'instructor_SHALKOWSKI, A', 'instructor_SHARMA, U', 'instructor_SHAW, S', 'instructor_SHEIKH, R', 'instructor_SHELICHACH, M', 'instructor_SHERIDAN, E', 'instructor_SHERMAN, B', 'instructor_SHERWIN, K', 'instructor_SHIBATA, C', 'instructor_SHIH, K', 'instructor_SHIH, S', 'instructor_SHIH, W', 'instructor_SHIKOWITZ, S', 'instructor_SHIN, S', 'instructor_SHINN, R', 'instructor_SHIPPEE, A', 'instructor_SHIRE, S', 'instructor_SHIRONISHI, R', 'instructor_SHKADRON, P', 'instructor_SHOLETTE, G', 'instructor_SHORT, T', 'instructor_SHU, Y', 'instructor_SHUR, M', 'instructor_SHUTTLEWORTH, J', 'instructor_SHUVAYEV, V', 'instructor_SIEGEL, L', 'instructor_SILATCHOM FOYOU, F', 'instructor_SILVERBERG, E', 'instructor_SILVERMAN, A', 'instructor_SILYN ROBERTS, S', 'instructor_SIMERKA, B', 'instructor_SIMON, H', 'instructor_SINGH, K', 'instructor_SINGH, M', 'instructor_SINGH, P', 'instructor_SINGLEMAN, C', 'instructor_SIRLIN, R', 'instructor_SISSER, F', 'instructor_SITLER, E', 'instructor_SKAFIDAS, M', 'instructor_SKWARA, G', 'instructor_SMALDONE, E', 'instructor_SMALDONE, K', 'instructor_SMITH, J', 'instructor_SMITH, R', 'instructor_SMITH-THOMPSON, A', 'instructor_SNEERINGER, J', 'instructor_SOARES, S', 'instructor_SOLAN, Y', 'instructor_SOLARSH, E', 'instructor_SOLIERI, S', 'instructor_SOLOMON, S', 'instructor_SOLOMON, Y', 'instructor_SOULE, D', 'instructor_SOULE, M', 'instructor_SOUMAKIS, F', 'instructor_SPERLING, J', 'instructor_SPERRY, R', 'instructor_SPISAK, W', 'instructor_SPITZ, H', 'instructor_SPIVAK, L', 'instructor_SPREIZER, C', 'instructor_SPRING, T', 'instructor_SQUIRES, K', 'instructor_SRINIVASAN, R', 'instructor_ST AGATHE, P', 'instructor_STALIAS, M', 'instructor_STEIN, A', 'instructor_STEIN, J', 'instructor_STEIN, R', 'instructor_STEINMANN, L', 'instructor_STENGEL-MOHR, J', 'instructor_STEUERWALT, K', 'instructor_STEVENS, M', 'instructor_STEVENS, R', 'instructor_STEWART, G', 'instructor_STOETH, A', 'instructor_STORBECK, J', 'instructor_STRASSFELD, B', 'instructor_STRASSLER, K', 'instructor_STRICKLAND, S', 'instructor_STUMM, C', 'instructor_STURMEY, P', 'instructor_SUGITA, M', 'instructor_SUH, B', 'instructor_SUKHU, G', 'instructor_SULLIVAN, K', 'instructor_SUN, F', 'instructor_SUN, T', 'instructor_SUN, W', 'instructor_SUND, J', 'instructor_SURECK, S', 'instructor_SUSSMAN, A', 'instructor_SUZUKI, R', 'instructor_SVADLENKA, J', 'instructor_SVAY, S', 'instructor_SVITAK, J', 'instructor_SWELL, L', 'instructor_SY, B', 'instructor_SZLAUDERBACH, K', 'instructor_TAHA, W', 'instructor_TAJERIAN, M', 'instructor_TAKEALL, A', 'instructor_TAKEI, S', 'instructor_TALEGHANI, R', 'instructor_TALISSE, E', 'instructor_TANG, J', 'instructor_TANVIR, A', 'instructor_TANZMAN, L', 'instructor_TAPIA, A', 'instructor_TARIQ, C', 'instructor_TASPINAR, S', 'instructor_TAUB, M', 'instructor_TAVAREZ, F', 'instructor_TEEPLE, S', 'instructor_TEIKMANIS, N', 'instructor_TERILLA, J', 'instructor_THALER, M', 'instructor_THAYER, J', 'instructor_THIEL, C', 'instructor_THORNTON, B', 'instructor_THOZHUTHUNGAL BALACHANDRAN, A', 'instructor_THURBER, M', 'instructor_THURSTON, T', 'instructor_TIFERET-DWECK, C', 'instructor_TILITZ, T', 'instructor_TINEO, K', 'instructor_TOLEDO, D', 'instructor_TOLLESON, J', 'instructor_TOLSTIKOVA, D', 'instructor_TOMASULO, V', 'instructor_TONER, M', 'instructor_TORRES, A', 'instructor_TOUEG, R', 'instructor_TOUGAW, J', 'instructor_TOUSI-HAKIMIAN, A', 'instructor_TRAVIESO, C', 'instructor_TRIBUZIO, L', 'instructor_TROIANI, S', 'instructor_TROIANOS, M', 'instructor_TSAI, C', 'instructor_TSE, C', 'instructor_TSIKA, N', 'instructor_TSOI, S', 'instructor_TUCCILLO, M', 'instructor_TULIAO, M', 'instructor_TURIANO, E', 'instructor_TURNER, B', 'instructor_TURNER, C', 'instructor_TWOMEY, R', 'instructor_UDDIN, J', 'instructor_UDDIN, M', 'instructor_ULUBABOVA, T', 'instructor_UNLUONEN, E', 'instructor_VACCA, J', 'instructor_VAGO, R', 'instructor_VALE, S', 'instructor_VANCELETTE, R', 'instructor_VELEZ, J', 'instructor_VELLON, P', 'instructor_VENA, N', 'instructor_VENTURA, G', 'instructor_VERASTEGUI, E', 'instructor_VESANEN, M', 'instructor_VESSELINOV, E', 'instructor_VETERE, R', 'instructor_VICTOR, M', 'instructor_VIG, V', 'instructor_VILADRICH, A', 'instructor_VILLA, L', 'instructor_VLADOVA, O', 'instructor_VLAMIS, N', 'instructor_VOLDMAN, B', 'instructor_WADE, C', 'instructor_WAGNER, C', 'instructor_WAGNER, J', 'instructor_WALDMAN, J', 'instructor_WALDRON, L', 'instructor_WALKER, A', 'instructor_WALKER, L', 'instructor_WALL, E', 'instructor_WALTERS DOEHRMAN, B', 'instructor_WAMBA, N', 'instructor_WAN, A', 'instructor_WANG, A', 'instructor_WANG, C', 'instructor_WANG, J', 'instructor_WANG, P', 'instructor_WANG, T', 'instructor_WANG, X', 'instructor_WASSERMAN, D', 'instructor_WAXMAN, J', 'instructor_WAYMAN, S', 'instructor_WEBB, C', 'instructor_WEEKS, E', 'instructor_WEERASINGHE, K', 'instructor_WEINBERG, D', 'instructor_WEINGARTEN, K', 'instructor_WEINSTEIN, K', 'instructor_WEINSTEIN, L', 'instructor_WEIR, J', 'instructor_WEISBERG, H', 'instructor_WEISBROT, M', 'instructor_WEISS, D', 'instructor_WEISS, R', 'instructor_WELLINGTON, S', 'instructor_WELLS, C', 'instructor_WEN, C', 'instructor_WENG, S', 'instructor_WERSHBA GERSHON, P', 'instructor_WESTFAL, S', 'instructor_WHEATMAN, B', 'instructor_WHEELER, R', 'instructor_WHITE, M', 'instructor_WIENER, D', 'instructor_WILBOURNE, E', 'instructor_WILLIAMS, C', 'instructor_WILLIAMS, L', 'instructor_WILSON, E', 'instructor_WILSON, M', 'instructor_WILSON, S', 'instructor_WINKS, C', 'instructor_WINTERMUTE, B', 'instructor_WITHANACHCHI, V', 'instructor_WOLF, T', 'instructor_WOLF-SONKIN, V', 'instructor_WOLFE, M', 'instructor_WON, A', 'instructor_WONG, P', 'instructor_WOO, D', 'instructor_WOOD, M', 'instructor_WOODFIN, W', 'instructor_WOOLF, S', 'instructor_WOZNIAK, S', 'instructor_WU LOHEZ, D', 'instructor_WU, E', 'instructor_WU, S', 'instructor_WU, Y', 'instructor_WUEBKER, E', 'instructor_XIAO, J', 'instructor_XU, H', 'instructor_YAMATO, L', 'instructor_YANG, J', 'instructor_YANG, K', 'instructor_YEARWOOD, S', 'instructor_YEH, J', 'instructor_YELNYKOV, O', 'instructor_YEO, S', 'instructor_YEOM, M', 'instructor_YI, C', 'instructor_YILMAZ, V', 'instructor_YIM, S', 'instructor_YOO, S', 'instructor_YOON, E', 'instructor_YOUNG, J', 'instructor_YOUNG, S', 'instructor_YOUNGBLOOD, M', 'instructor_YUAN, C', 'instructor_YUKAWA, K', 'instructor_ZABUN, O', 'instructor_ZAINO, K', 'instructor_ZAKERI, S', 'instructor_ZAPF, M', 'instructor_ZARATE, G', 'instructor_ZARNOWSKI, M', 'instructor_ZAYAC, J', 'instructor_ZEHRA, S', 'instructor_ZENDER, D', 'instructor_ZETTERSTROEM, O', 'instructor_ZHANG, J', 'instructor_ZHANG, Y', 'instructor_ZHAO, C', 'instructor_ZHAO, R', 'instructor_ZHAO, Y', 'instructor_ZHU, E', 'instructor_ZIMROTH, E', 'instructor_ZINNI, M', 'instructor_ZIYAMOVA, M', 'instructor_ZUBER, H', 'instructor_ZUCKER, A', 'instructor_ZYGLEWICZ, T']\n"
     ]
    }
   ],
   "source": [
    "selected_features = ['class_num', 'total_enrolled', 'class_num', 'writing_intensive', 'honors', 'subject_AFST',\n",
    "       'subject_ANTH', 'subject_ARAB', 'subject_ARTH', 'subject_ARTS',\n",
    "       'subject_ASTR', 'subject_BALA', 'subject_BIOL', 'subject_BUS',\n",
    "       'subject_CERT', 'subject_CESL', 'subject_CHEM', 'subject_CHIN',\n",
    "       'subject_CLAS', 'subject_CMAL', 'subject_CMLIT', 'subject_CO-OP',\n",
    "       'subject_CSCI', 'subject_DANCE', 'subject_DATA', 'subject_DRAM',\n",
    "       'subject_EAST', 'subject_ECON', 'subject_ECPCE', 'subject_ECPEL',\n",
    "       'subject_ECPSE', 'subject_ECPSP', 'subject_EECE', 'subject_ENGL',\n",
    "       'subject_ENSCI', 'subject_EURO', 'subject_FNES', 'subject_FREN',\n",
    "       'subject_GEOL', 'subject_GERM', 'subject_GREEK', 'subject_GRKMD',\n",
    "       'subject_HEBRW', 'subject_HIST', 'subject_HNRS', 'subject_HTH',\n",
    "       'subject_ITAL', 'subject_JAZZ', 'subject_JEWST', 'subject_JPNS',\n",
    "       'subject_KOR', 'subject_LABST', 'subject_LATIN', 'subject_LBSCI',\n",
    "       'subject_LCD', 'subject_LIBR', 'subject_MAM', 'subject_MATH',\n",
    "       'subject_MEDST', 'subject_MES', 'subject_MUSIC', 'subject_PERM',\n",
    "       'subject_PHIL', 'subject_PHOTO', 'subject_PHYS', 'subject_PORT',\n",
    "       'subject_PSCI', 'subject_PSYCH', 'subject_QNS', 'subject_RM',\n",
    "       'subject_RUSS', 'subject_SEEK', 'subject_SEYS', 'subject_SEYSL',\n",
    "       'subject_SOC', 'subject_SPAN', 'subject_STPER', 'subject_URBST',\n",
    "       'subject_WGS']\n",
    "\n",
    "for i in df.columns:\n",
    "    if i[:10] == 'instructor':\n",
    "        selected_features.append(i)\n",
    "print(selected_features)"
   ]
  },
  {
   "cell_type": "code",
   "execution_count": 49,
   "id": "feb97684",
   "metadata": {},
   "outputs": [],
   "source": [
    "X = df[selected_features]\n",
    "y = df['reasonably_passing']"
   ]
  },
  {
   "cell_type": "code",
   "execution_count": 50,
   "id": "c53d78ff",
   "metadata": {},
   "outputs": [],
   "source": [
    "X_train, X_test, y_train, y_test = train_test_split(X, y, test_size=0.2, random_state=45)"
   ]
  },
  {
   "cell_type": "code",
   "execution_count": 51,
   "id": "c22d94cb",
   "metadata": {},
   "outputs": [
    {
     "name": "stdout",
     "output_type": "stream",
     "text": [
      "Length of our Training data: 2134 \n",
      "Length of our Testing data: 534\n"
     ]
    }
   ],
   "source": [
    "print('Length of our Training data:', X_train.shape[0], '\\nLength of our Testing data:', X_test.shape[0])"
   ]
  },
  {
   "cell_type": "code",
   "execution_count": 52,
   "id": "17ace9d8",
   "metadata": {},
   "outputs": [],
   "source": [
    "model = LogisticRegression(max_iter = 3000)"
   ]
  },
  {
   "cell_type": "code",
   "execution_count": 53,
   "id": "05049bc3",
   "metadata": {},
   "outputs": [
    {
     "data": {
      "text/plain": [
       "LogisticRegression(max_iter=3000)"
      ]
     },
     "execution_count": 53,
     "metadata": {},
     "output_type": "execute_result"
    }
   ],
   "source": [
    "model.fit(X_train, y_train)"
   ]
  },
  {
   "cell_type": "code",
   "execution_count": 54,
   "id": "96ff2606",
   "metadata": {},
   "outputs": [],
   "source": [
    "y_pred = model.predict(X_test)"
   ]
  },
  {
   "cell_type": "code",
   "execution_count": 55,
   "id": "44880bdb",
   "metadata": {},
   "outputs": [
    {
     "data": {
      "text/plain": [
       "array([0.84, 0.32, 0.75, 0.92, 0.83, 0.82, 0.91, 0.85, 0.73, 0.77, 0.39,\n",
       "       0.19, 0.8 , 0.52, 0.89, 0.77, 0.64, 0.59, 0.85, 0.67, 0.41, 0.54,\n",
       "       0.5 , 0.88, 0.88, 0.8 , 0.88, 0.86, 0.5 , 0.84, 0.85, 0.88, 0.91,\n",
       "       0.89, 0.72, 0.74, 0.88, 0.98, 0.35, 0.63, 0.49, 0.57, 0.9 , 0.84,\n",
       "       0.31, 0.9 , 0.72, 0.58, 0.22, 0.5 , 0.71, 0.15, 0.88, 0.75, 0.68,\n",
       "       0.8 , 0.26, 0.82, 0.84, 0.85, 0.73, 0.67, 0.84, 0.78, 0.32, 0.72,\n",
       "       0.98, 0.65, 0.33, 0.81, 0.68, 0.56, 0.87, 0.98, 0.91, 0.92, 0.89,\n",
       "       0.46, 0.72, 0.88, 0.77, 0.65, 0.79, 0.7 , 0.78, 0.88, 0.89, 0.63,\n",
       "       0.68, 0.28, 0.62, 0.76, 0.38, 0.22, 0.95, 0.17, 0.9 , 0.71, 0.83,\n",
       "       0.87, 0.41, 0.91, 0.55, 0.92, 0.45, 0.39, 0.81, 0.89, 0.88, 0.81,\n",
       "       0.79, 0.25, 0.82, 0.89, 0.33, 0.78, 0.71, 0.31, 0.76, 0.39, 0.33,\n",
       "       0.85, 0.7 , 0.37, 0.88, 0.91, 0.37, 0.95, 0.84, 0.46, 0.67, 0.98,\n",
       "       0.84, 0.77, 0.82, 0.73, 0.87, 0.8 , 0.77, 0.67, 0.98, 0.49, 0.67,\n",
       "       0.82, 0.79, 0.38, 0.89, 0.39, 0.8 , 0.86, 0.33, 0.25, 0.82, 0.8 ,\n",
       "       0.91, 0.88, 0.89, 0.22, 0.53, 0.86, 0.27, 0.69, 0.71, 0.66, 0.96,\n",
       "       0.48, 0.88, 0.83, 0.65, 0.98, 0.39, 0.75, 0.82, 0.85, 0.87, 0.82,\n",
       "       0.77, 0.9 , 0.84, 0.79, 0.92, 0.9 , 0.79, 0.89, 0.85, 0.55, 0.9 ,\n",
       "       0.84, 0.6 , 0.89, 0.84, 0.82, 0.33, 0.87, 0.77, 0.61, 0.75, 0.92,\n",
       "       0.89, 0.82, 0.66, 0.4 , 0.83, 0.49, 0.39, 0.87, 0.37, 0.95, 0.8 ,\n",
       "       0.79, 0.8 , 0.79, 0.84, 0.79, 0.91, 0.9 , 0.37, 0.95, 0.56, 0.82,\n",
       "       0.68, 0.86, 0.74, 0.76, 0.22, 0.33, 0.87, 0.81, 0.48, 0.9 , 0.9 ,\n",
       "       0.94, 0.92, 0.87, 0.72, 0.65, 0.58, 0.73, 0.15, 0.66, 0.82, 0.22,\n",
       "       0.77, 0.9 , 0.93, 0.24, 0.79, 0.89, 0.88, 0.45, 0.79, 0.66, 0.74,\n",
       "       0.8 , 0.82, 0.79, 0.67, 0.87, 0.66, 0.92, 0.52, 0.98, 0.7 , 0.74,\n",
       "       0.81, 0.92, 0.39, 0.22, 0.29, 0.91, 0.96, 1.  , 0.79, 0.88, 0.88,\n",
       "       0.53, 0.49, 0.38, 0.82, 0.65, 0.88, 0.79, 0.82, 0.85, 0.72, 0.69,\n",
       "       0.98, 0.37, 0.85, 0.55, 0.77, 0.92, 0.76, 0.87, 0.52, 0.89, 0.74,\n",
       "       0.67, 0.69, 0.33, 0.82, 0.74, 0.79, 0.84, 0.88, 0.83, 0.78, 0.49,\n",
       "       0.79, 0.86, 0.75, 0.86, 0.51, 0.82, 0.77, 0.78, 0.97, 0.79, 0.9 ,\n",
       "       0.84, 0.82, 0.89, 0.8 , 0.5 , 0.62, 0.64, 0.9 , 0.79, 0.87, 0.56,\n",
       "       0.52, 0.67, 0.8 , 0.78, 0.89, 0.9 , 0.87, 0.75, 0.7 , 0.48, 0.58,\n",
       "       0.44, 0.32, 0.72, 0.88, 0.83, 0.87, 0.84, 0.58, 0.79, 0.79, 0.86,\n",
       "       0.82, 0.4 , 0.83, 0.85, 0.63, 0.96, 0.75, 0.87, 0.74, 0.92, 0.61,\n",
       "       0.84, 0.82, 0.67, 0.75, 0.4 , 0.83, 0.72, 0.58, 0.25, 0.46, 0.68,\n",
       "       0.85, 0.82, 0.58, 0.65, 0.85, 0.94, 0.76, 0.79, 0.37, 0.84, 0.27,\n",
       "       0.93, 0.28, 0.8 , 0.84, 0.54, 0.73, 0.4 , 0.92, 0.15, 0.4 , 0.86,\n",
       "       0.38, 0.96, 0.86, 0.69, 0.72, 0.63, 0.58, 0.66, 0.97, 0.79, 0.77,\n",
       "       0.98, 0.41, 0.78, 0.58, 0.81, 0.96, 0.86, 0.95, 0.66, 0.77, 0.73,\n",
       "       0.98, 0.83, 0.7 , 0.15, 0.84, 0.62, 0.68, 0.53, 0.82, 0.84, 0.41,\n",
       "       0.88, 0.47, 0.67, 0.89, 0.85, 0.96, 0.9 , 0.81, 0.75, 0.82, 0.68,\n",
       "       0.22, 0.83, 0.87, 0.98, 0.84, 0.98, 0.84, 0.86, 0.82, 0.9 , 0.9 ,\n",
       "       0.24, 0.71, 0.74, 0.71, 0.96, 0.87, 0.74, 0.83, 0.72, 0.89, 0.69,\n",
       "       0.92, 0.88, 0.55, 0.67, 0.9 , 0.87, 0.45, 0.8 , 0.33, 0.72, 0.81,\n",
       "       0.95, 0.5 , 0.68, 0.47, 0.86, 0.8 , 0.25, 0.98, 0.79, 0.17, 0.55,\n",
       "       0.92, 0.38, 0.98, 0.78, 0.81, 0.43, 0.93, 0.95, 0.32, 0.17, 0.79,\n",
       "       0.75, 0.85, 0.82, 0.8 , 0.79, 0.9 , 0.63, 0.87, 0.86, 0.91, 0.41,\n",
       "       0.72, 0.67, 0.57, 0.59, 0.81, 0.75, 0.4 , 0.63, 0.84, 0.85, 0.4 ,\n",
       "       0.8 , 0.21, 0.83, 0.35, 0.18, 0.95, 0.66, 0.52, 0.19, 0.74, 0.67,\n",
       "       0.46, 0.66, 0.94, 0.89, 0.85, 0.88])"
      ]
     },
     "execution_count": 55,
     "metadata": {},
     "output_type": "execute_result"
    }
   ],
   "source": [
    "y_pred_proba = model.predict_proba(X_test)[:,1]\n",
    "y_pred_proba.round(2)"
   ]
  },
  {
   "cell_type": "code",
   "execution_count": 56,
   "id": "5a575112",
   "metadata": {},
   "outputs": [
    {
     "data": {
      "text/plain": [
       "0.7696629213483146"
      ]
     },
     "execution_count": 56,
     "metadata": {},
     "output_type": "execute_result"
    }
   ],
   "source": [
    "accuracy = accuracy_score(y_test, y_pred)\n",
    "accuracy"
   ]
  },
  {
   "cell_type": "code",
   "execution_count": 57,
   "id": "dabd54f9",
   "metadata": {},
   "outputs": [
    {
     "data": {
      "text/plain": [
       "0.7889908256880734"
      ]
     },
     "execution_count": 57,
     "metadata": {},
     "output_type": "execute_result"
    }
   ],
   "source": [
    "precision = precision_score(y_test, y_pred)\n",
    "precision"
   ]
  },
  {
   "cell_type": "code",
   "execution_count": 58,
   "id": "fce4067c",
   "metadata": {},
   "outputs": [
    {
     "data": {
      "text/plain": [
       "0.9173333333333333"
      ]
     },
     "execution_count": 58,
     "metadata": {},
     "output_type": "execute_result"
    }
   ],
   "source": [
    "recall = recall_score(y_test, y_pred)\n",
    "recall"
   ]
  },
  {
   "cell_type": "code",
   "execution_count": 59,
   "id": "866d7117",
   "metadata": {},
   "outputs": [
    {
     "data": {
      "text/plain": [
       "0.8483353884093712"
      ]
     },
     "execution_count": 59,
     "metadata": {},
     "output_type": "execute_result"
    }
   ],
   "source": [
    "f1 = f1_score(y_test, y_pred)\n",
    "f1"
   ]
  },
  {
   "cell_type": "markdown",
   "id": "e69d4cad",
   "metadata": {},
   "source": [
    "Note:\n",
    "-Grade for reasonably_passing is arbitrary - I set it as 2.3 (which is equivalent to a C+ average).\n"
   ]
  },
  {
   "cell_type": "code",
   "execution_count": null,
   "id": "2b67cdb4",
   "metadata": {},
   "outputs": [],
   "source": []
  }
 ],
 "metadata": {
  "kernelspec": {
   "display_name": "Python 3",
   "language": "python",
   "name": "python3"
  },
  "language_info": {
   "codemirror_mode": {
    "name": "ipython",
    "version": 3
   },
   "file_extension": ".py",
   "mimetype": "text/x-python",
   "name": "python",
   "nbconvert_exporter": "python",
   "pygments_lexer": "ipython3",
   "version": "3.8.8"
  }
 },
 "nbformat": 4,
 "nbformat_minor": 5
}
